{
  "cells": [
    {
      "cell_type": "markdown",
      "metadata": {
        "id": "view-in-github",
        "colab_type": "text"
      },
      "source": [
        "<a href=\"https://colab.research.google.com/github/daphnei/gen-ai-tutorials/blob/daphne/llm_tutorial.ipynb\" target=\"_parent\"><img src=\"https://colab.research.google.com/assets/colab-badge.svg\" alt=\"Open In Colab\"/></a>"
      ]
    },
    {
      "cell_type": "markdown",
      "metadata": {
        "id": "ZlrBFMah9H9u"
      },
      "source": [
        "# Getting Started\n",
        "## Glossary\n",
        "\n",
        "Here are some of the terms we will be using in this tutorial.\n",
        "\n",
        "\n",
        "*   **Accelerator**: A [GPU](https://www.techtarget.com/searchvirtualdesktop/definition/GPU-graphics-processing-unit) or [TPU](https://cloud.google.com/tpu/docs/intro-to-tpu) hardware chip used to massively speed up model inference by enabling fast, parallelized matrix multiplcations.\n",
        "* **Decoding method**: The algorithm you use to chose tokens based on the probabilities outputted by the language model.\n",
        "*   **Engine**: The code and computers used to do inference with a model.\n",
        "* **Google Colab**:  An IPYthon notebook that is running on a Google Cloud server. By going into the menu `Runtime` -> `Change runtime type`, you can choose what kind of server to use, and whether or not is has an accelerator.\n",
        "* **IPython Notebook**: An IPython notebook is a webpage that mixes together text descriptions with runnable code. The webpage you are looking at right now is an IPython notebook. IPython notebooks load in your web browser, but they run all your code on a PYthon server. That server can be launched locally (i.e., on your laptop), or it can be hosted by a company like Google Cloud.\n",
        "*   **(Language) Model**: A neural network trained to predict the next token in a text passage given the previous ones.\n",
        "\n",
        "## How to use Google Colab\n",
        "\n",
        "_Google Colab_ is an online platform that allows you to write, run, and share Python code without the need for any setup or installation. With Colab, you can launch an _IPython Notebook_ (see glossary above) on Google's cloud infrastructure.\n",
        "You have the option to launch your Colab with access to an _accelerator_ (the computer hardware that allows language models to run fast). This makes it an excellent tool for learning and experimenting with Python programming.\n",
        "\n",
        "If you are new to Google Colab, consider taking a look through the following FAQ:\n",
        "\n",
        "**What is a cell?** <br>\n",
        "The Colab interface consists of cells, which can be either code cells or text cells. Code cells allow you to write and execute Python code, while text cells are used for documentation and explanations. You can add new cells using the \"+\" button in the toolbar at the top of the window.\n",
        "\n",
        "**How do I run a code cell?** <br>\n",
        "To run the code in a cell, you have a few options:<br>\n",
        "  * Click the \"play\" button on the left side of the cell.\n",
        "  * Use the keyboard shortcut Shift + Enter.\n",
        "  * Go to the \"Runtime\" menu and select \"Run cell.\"\n",
        "\n",
        "Once you press run, Colab will execute the code and display the output below the cell. If the code produces any output or results, it will be printed in the output area. Some code blocks may take several seconds to run.\n",
        "\n",
        "**What does it mean to restart the runtime** <br>\n",
        "Sometimes, you may encounter issues with your code where intstalled packages may not show up when imported. In such cases, you can restart the runtime. To restart the runtime, go to the \"Runtime\" menu and select \"Restart runtime.\" All local variables will be lost, so you would have to run the cells you need again.\n",
        "\n",
        "**How do I use a hardware accelerator and why would I want to?**<br>\n",
        "Some tasks require more compute power than others.\n",
        "For example, if you want to generate text with GPT-3, you send a reqest to OpenAI's servers, and all the hard work of running the model is done on OpenAI's server.\n",
        "In this case, you don't need your Colab runtime to be very powerful.\n",
        "\n",
        "On the other hand, if you want to to generation with an open-source model, you will need your Colab runtime to be powerful enough to load and run the model. In this case, you'll need to change you runetime type to give it an accelerator.\n",
        "\n",
        "To change your runtime type, click on the \"Runtime\" menu at the top of the screen and select \"Change runtime type\". In the dialog box, you can choose a hardware accelerator for your runtime. Colab provides options for \"None\" (default), \"GPU,\" or \"TPU\" (Tensor Processing Unit).\n",
        "  * If you select \"None,\" your code will run on a CPU (Central Processing Unit). This is sufficient for most purposes.\n",
        "  * If you choose \"GPU,\" Colab will allocate a GPU (Graphics Processing Unit) accelerator for your runtime, which will significantly speed up the computations necessary to run a langauge model locally in your Colab.\n",
        "  * If you opt for \"TPU,\" Colab will provide access to a TPU (Tensor Processing Unit) accelerator , which is specialized hardware designed to accelerate machine learning tasks.\n",
        "\n",
        "### **Important: Run the \"Importants and Initialization\" code block below to get started.**"
      ]
    },
    {
      "cell_type": "code",
      "execution_count": 1,
      "metadata": {
        "id": "bOs6Z9HImCy5"
      },
      "outputs": [],
      "source": [
        "#@title Imports and Initialization\n",
        "%pip install datasets\n",
        "%pip install openai\n",
        "%pip install cohere\n",
        "%pip install textwrap\n",
        "%pip install transformers\n",
        "\n",
        "from abc import ABC\n",
        "import datasets\n",
        "import json\n",
        "import openai\n",
        "import cohere\n",
        "import numpy as np\n",
        "from scipy.special import softmax\n",
        "import textwrap\n",
        "import matplotlib.pyplot as plt\n",
        "from IPython.display import clear_output\n",
        "from transformers import AutoTokenizer, AutoModelForCausalLM\n",
        "\n",
        "COHERE_SECRET_KEY = None\n",
        "OPENAI_SECRET_KEY = None\n",
        "\n",
        "clear_output()"
      ]
    },
    {
      "cell_type": "markdown",
      "metadata": {
        "id": "Z459i_L9lItq"
      },
      "source": [
        "# Unit 1: Working with Pre-Trained Languages Models"
      ]
    },
    {
      "cell_type": "markdown",
      "metadata": {
        "id": "ofGf3IoXlB0b"
      },
      "source": [
        "# 1.1 Choosing a model and engine\n",
        "\n",
        "Which model should you use? It depends on what your goals are, what your budget is, and what kinds of computational resources you have available.\n",
        "\n",
        "In this section, we will summarize the pros and cons some of the popular systems, and guide you through the process of setting them up for inference.\n",
        "We have implemented each system to have an interface with two functions in it: a `generate` function which takes as input a prompt and generates text based on it, and a `score` function, which takes as input some text and returns the score the model assigns to each token.\n",
        "\n",
        "### **Important: Run the \"Engine Interface\" code block below before moving on.**\n",
        "\n",
        "After that, you should look through the sections marked `[PICK ONE]` and choose the one you would like to use for the tutorial. You only need to run one of these sections.\n"
      ]
    },
    {
      "cell_type": "code",
      "execution_count": 3,
      "metadata": {
        "id": "jPtyCHJQc4eI"
      },
      "outputs": [],
      "source": [
        "#@title Engine Interface\n",
        "\n",
        "class Engine(ABC):\n",
        "  def score(self, text: str) -> tuple[list[str], list[float]]:\n",
        "    \"\"\"Tokenizes and scores a piece of text.\n",
        "\n",
        "    The score is log-likelihood. A higher score means a token was more\n",
        "    likely according to the model.\n",
        "\n",
        "    Returns a list of tokens and a list of scores.\n",
        "    \"\"\"\n",
        "    pass\n",
        "\n",
        "  def generate(self, prompt, top_p, num_tokens, num_samples):\n",
        "    \"\"\"Generates text given the provided prompt text.\n",
        "\n",
        "    If num_samples is 1, a single generated string is returned.\n",
        "    If num_samples > 1, a list of num_samples generated strings is returned.\n",
        "    \"\"\"\n",
        "    pass"
      ]
    },
    {
      "cell_type": "markdown",
      "metadata": {
        "id": "OXOevXZ7lF1B"
      },
      "source": [
        "## [PICK ONE] OpenAI's GPT-3\n",
        "\n",
        "[[GPT-3's model card](https://github.com/openai/gpt-3/blob/master/model-card.md)]\n",
        "\n",
        "OpenAI's GPT-3 (Generative Pre-trained Transformer 3) is a family of advanced language models developed by OpenAI.\n",
        "These models have gained significant attention due to their impressive capabilities in generating human-like text and performing various natural language processing tasks.\n",
        "\n",
        "### GPT-3:\n",
        "GPT-3 is the third iteration in the GPT series and represents a significant advancement in language modeling. With a whopping 175 billion parameters, GPT-3 is currently one of the largest language models ever created. It has been trained on a vast amount of diverse internet text, allowing it to generate coherent and contextually relevant responses to prompts. GPT-3's size enables it to exhibit impressive performance across a wide range of language tasks, such as text completion, language translation, summarization, question answering, and more. It has shown promising results in creative writing, conversational agents, and even programming assistance.\n",
        "\n",
        "### Why use these?\n",
        "OpenAI's model have become the industry standard for large language models.\n",
        "They have an API which is very easy to use. Since the models all get run on OpenAI's servers, you don't need your own compute resources, and there is practically no setup involved to get started.\n",
        "\n",
        "### Why not use these?\n",
        "OpenAI's models are not open-source and only accessible through an API. There is relatively little information available on how they were trained or what data they were trained on. OpenAI may change the models being used under the hood by the API, and you as a user will not know it. This makes them a bad choice for fully reproducible research.\n",
        "\n",
        "The OpenAI API costs money to use. See [this link](https://openai.com/pricing) for pricing details.\n",
        "\n",
        "⚠️ _**Warning:** OpenAI gives a limited number of free credits and may ask you to enter credit card information if you exceed them._ ⚠️\n",
        "\n",
        "### Setup Instructions\n",
        "1. Go to www.openai.com and create an account.\n",
        "2. Go to https://platform.openai.com/account/api-keys and click the \"Create new secret key\" button. It doesn't matter what you name it.\n",
        "3. Copy your API key, and then run the code block below. It will ask you to enter your secret key into a text box."
      ]
    },
    {
      "cell_type": "code",
      "execution_count": 34,
      "metadata": {
        "id": "sBfe6Orlk_ha"
      },
      "outputs": [],
      "source": [
        "#@title Run this code block to use GPT-3 for Unit 1.\n",
        "MODEL_NAME = \"text-davinci-001\" #@param [\"gpt-4\", \"text-davinci-001\", \"text-curie-001\", \"text-babbage-001\", \"text-ada-001\"]\n",
        "\n",
        "import openai\n",
        "\n",
        "if OPENAI_SECRET_KEY is None:\n",
        "  print(\"Please paste your API key here:\")\n",
        "  OPENAI_SECRET_KEY = input().strip()\n",
        "openai.api_key = OPENAI_SECRET_KEY\n",
        "clear_output()\n",
        "\n",
        "class OpenAIEngine(Engine):\n",
        "  def __init__(self, model_name):\n",
        "    self.model_name = model_name\n",
        "\n",
        "  def score(self, text):\n",
        "    response = openai.Completion.create(\n",
        "        engine=self.model_name,\n",
        "        prompt=text,\n",
        "        max_tokens=0,\n",
        "        logprobs=1,\n",
        "        echo=True)\n",
        "\n",
        "    tokens = response[\"choices\"][0][\"logprobs\"][\"tokens\"]\n",
        "    logprobs = response[\"choices\"][0][\"logprobs\"][\"token_logprobs\"]\n",
        "    if logprobs and logprobs[0] is None:\n",
        "      # GPT-3 API does not return logprob of the first token\n",
        "      logprobs[0] = 0.0\n",
        "    return tokens, logprobs\n",
        "\n",
        "  def generate(self, prompt, top_p=1.0, num_tokens=32, num_samples=1):\n",
        "    response = openai.Completion.create(\n",
        "      engine=self.model_name,\n",
        "      prompt=prompt,\n",
        "      temperature=1.0,\n",
        "      max_tokens=num_tokens,\n",
        "      top_p=top_p,\n",
        "      frequency_penalty=0.0,\n",
        "      n=num_samples,\n",
        "      presence_penalty=0.0,\n",
        "      logprobs=1\n",
        "    )\n",
        "    outputs = [r[\"text\"] for r in response[\"choices\"]]\n",
        "    return outputs[0] if num_samples == 1 else outputs\n",
        "\n",
        "engine = OpenAIEngine(MODEL_NAME)"
      ]
    },
    {
      "cell_type": "markdown",
      "metadata": {
        "id": "ntxQK-J9BWwh"
      },
      "source": [
        "## [PICK ONE] Cohere's models\n",
        "\n",
        "### Why use these?\n",
        "Cohere is a competitor to OpenAI. One of the ways they have tried to distinguish themselves is to be slightly more transparent than OpenAI about their models and their capabilities, as well as how user data is collected and used. The Cohere website also has excellent documentation on how language models (and their API for them) work.\n",
        "\n",
        "### Why not use these?\n",
        "Like OpenAI's model, Cohere's model are not public. We don't know exactly what data they were trained or what the model sizes are.\n",
        "Cohere's free usage tier is fairly limited, only allowing 5 API calls per minute. If you choose to pay for their production tier, it will cost $15.0 per 1 million tokens processed.\n",
        "\n",
        "⚠️ _**Warning:** Cohere only allows you to make a handful of queries per minute for free, and if you would like to make more queries  than that, you will need to enter credit card information._ ⚠️\n",
        "\n",
        "\n",
        "### Setup Instructions\n",
        "\n",
        "1. Create an account [here](https://dashboard.cohere.ai/welcome/register).\n",
        "2. Go to the [API key page](https://dashboard.cohere.ai/api-keys), and copy the `TRIAL` API key, then paste it into the code block below.\n",
        "3. The `TRIAL` API Key allows you to make 5 API calls per minute. If you would like to make more calls than that, go to the [API key page](https://dashboard.cohere.ai/api-keys) and press the \"Get your production key\" button. You will need to agree to their terms of service and provide credit card details in order to receieve a `PRODUCTION` API key.\n",
        "4. Copy your API key, and then run the code block below. It will ask you to enter your secret key into a text box."
      ]
    },
    {
      "cell_type": "code",
      "execution_count": null,
      "metadata": {
        "id": "JiUFAOuJaEjQ"
      },
      "outputs": [],
      "source": [
        "#@title Run this code block to use Cohere for Unit 1.\n",
        "\n",
        "import cohere\n",
        "\n",
        "if COHERE_SECRET_KEY is None:\n",
        "  print(\"Please paste your API key here:\")\n",
        "  COHERE_SECRET_KEY = input().strip()\n",
        "co = cohere.Client(COHERE_SECRET_KEY)\n",
        "clear_output()\n",
        "\n",
        "class CohereEngine(Engine):\n",
        "  def __init__(self):\n",
        "    pass\n",
        "\n",
        "  def score(self, text):\n",
        "    response = co.generate(\n",
        "      prompt=text,\n",
        "      num_generations=1,\n",
        "      max_tokens=0,\n",
        "      return_likelihoods=\"ALL\"\n",
        "    )\n",
        "    tokens = [t.token for t in response[0].token_likelihoods]\n",
        "    likelihoods = [t.likelihood for t in response[0].token_likelihoods]\n",
        "    return tokens, likelihoods\n",
        "\n",
        "  def generate(self, prompt, top_p, num_tokens, num_samples):\n",
        "    response = co.generate(\n",
        "      prompt=prompt,\n",
        "      num_generations=num_samples,\n",
        "      p=top_p,\n",
        "      temperature=1.0,\n",
        "      max_tokens=num_tokens,\n",
        "      frequency_penalty=0.0,\n",
        "      presence_penalty=0.0,\n",
        "      return_likelihoods=\"ALL\"\n",
        "    )\n",
        "    return [r.text for r in response] if num_samples > 1 else response[0].text\n",
        "\n",
        "engine = CohereEngine()"
      ]
    },
    {
      "cell_type": "markdown",
      "metadata": {
        "id": "l4KMC9nXqr99"
      },
      "source": [
        "## [PICK ONE] Open-source models on HuggingFace\n",
        "\n",
        "HuggingFace is an open-source code framework for loading open-source models onto an accelerator in order to train or do inference. It is very popular among academic researchers.\n",
        "\n",
        "There are [hundreds of models](https://huggingface.co/models) available through HuggingFace's model repository. Some prominent ones which you can use for tutorial are:\n",
        "\n",
        "* **[Pythia-1B](https://huggingface.co/EleutherAI/pythia-2.8b-deduped)**: Part of a family of models trained by [Eleuther AI](https://www.eleuther.ai/about), a non-profit AI research lab.\n",
        "* **[GPT-2 Large](https://huggingface.co/gpt2-large)**: The original large language model from OpenAI, and the last one they open-sourced before moving away from open source models.\n",
        "* **[BLOOM-1.1b](https://huggingface.co/docs/transformers/model_doc/bloom)**: These models were created by the [BigScience Initative](https://bigscience.huggingface.co/), a collaboration between HugginFace and many academic research labs to responsibly build a set of high-quality multilingual models.\n",
        "\n",
        "### Why use this?\n",
        "HuggingFace is great if your goal is to write open-source code, with results that anyone can reproduce. HuggingFace gives access to a huge number of models, and it is fairly easy to swap between models.\n",
        "\n",
        "Because HuggingFace is widely used, it is easy to find help online. Probably someone else has had the same question as you and already posted about it.\n",
        "\n",
        "### Why not use this?\n",
        "When you use HuggingFace, you are running the code on your own computer. If you don't have a big enough accelerator, you will run into difficulties loading up larger models. For example, Colab (the software you are currently using) gives you access to a Tesla T4 GPU, which has 16 GB of RAM. This means, you can load the 6.7B parameter LLaMa, but not any of the bigger ones.\n",
        "\n",
        "## Setup Instructions\n",
        "\n",
        "1. Make sure you are using a GPU runtime by going to `Runtime` -> `Change runtime type` -> `Hardware accelerator` in the Colab menus. This will restart your Colab session.\n",
        "2. Select which model you want to use, and run the code block below. Depending on the model you pick, this could be very slow to run, since downloading the model can be slow.\n"
      ]
    },
    {
      "cell_type": "code",
      "execution_count": 18,
      "source": [
        "#@title Run this code block to use a HuggingFace model for Unit 1.\n",
        "MODEL_NAME = \"EleutherAI/pythia-1b-deduped\" #@param [\"EleutherAI/pythia-1b-deduped\", \"gpt2-large\", \"bigscience/bloom-1b1\"]\n",
        "\n",
        "import torch\n",
        "\n",
        "class HuggingFaceEngine(Engine):\n",
        "  def __init__(self, model_name):\n",
        "    self.model_name = model_name\n",
        "    self.tokenizer = AutoTokenizer.from_pretrained(self.model_name)\n",
        "    self.model = AutoModelForCausalLM.from_pretrained(self.model_name).cuda()\n",
        "    if not self.tokenizer.pad_token:\n",
        "      self.tokenizer.pad_token = self.tokenizer.eos_token\n",
        "\n",
        "  def score(self, text):\n",
        "    inputs = engine.tokenizer(text, padding=True, return_tensors=\"pt\")\n",
        "    input_ids = inputs[\"input_ids\"]\n",
        "\n",
        "    outputs = engine.model(input_ids.cuda(), labels=input_ids.cuda())\n",
        "    scores = torch.log2(outputs.logits.softmax(dim=-1)).detach()\n",
        "    # scores = outputs.logits.softmax(dim=-1).detach()\n",
        "    scores = torch.gather(scores, 2, input_ids[:, :, None].cuda()).squeeze(-1)\n",
        "    scores = scores.cpu().numpy()[0, :].tolist()\n",
        "    tokens = [engine.tokenizer.decode([tok]) for tok in input_ids[0]]\n",
        "    return tokens, scores\n",
        "\n",
        "  def generate(self, prompt, top_p=1.0, num_tokens=32, num_samples=1):\n",
        "    inputs = engine.tokenizer(prompt, return_tensors=\"pt\")\n",
        "    input_ids = inputs[\"input_ids\"]\n",
        "    attention_mask = inputs[\"attention_mask\"]\n",
        "    outputs = engine.model.generate(\n",
        "            input_ids.cuda(),\n",
        "            attention_mask=attention_mask.cuda(),\n",
        "            do_sample=True,\n",
        "            top_p=top_p,\n",
        "            max_new_tokens=num_tokens,\n",
        "            num_return_sequences=num_samples,\n",
        "            pad_token_id=0)\n",
        "    to_return = []\n",
        "    for seq in outputs.cpu().numpy():\n",
        "      to_return.append(engine.tokenizer.decode(seq[input_ids.shape[1]:]))\n",
        "    return to_return if len(to_return) > 1 else to_return[0]\n",
        "\n",
        "engine = HuggingFaceEngine(MODEL_NAME)"
      ],
      "metadata": {
        "colab": {
          "base_uri": "https://localhost:8080/"
        },
        "id": "Gai2kVz3SGM5",
        "outputId": "8aa27614-c866-4abd-8c59-95150345f2f6"
      },
      "outputs": [
        {
          "output_type": "stream",
          "name": "stderr",
          "text": [
            "Using pad_token, but it is not set yet.\n"
          ]
        }
      ]
    },
    {
      "cell_type": "markdown",
      "metadata": {
        "id": "zqMB8qewBQSn"
      },
      "source": [
        "## [PICK ONE] Open-source LLaMA\n",
        "\n",
        "[[LLaMA's model card](https://github.com/facebookresearch/llama/blob/main/MODEL_CARD.md)]\n",
        "\n",
        "Released this past February by Meta Research, [LLaMA](https://ai.facebook.com/blog/large-language-model-llama-meta-ai/) is the latest-and-greatest in open-source pre-trained LLMs. The LLaMA models range in size from 7 billion to 65 billion paramters.\n",
        "\n",
        "The LLaMA were trained mostly on scraped internet data, with some other data sources, such as Github code, Books, and academic papers thrown in. Since LLaMA's release, it has also been finetuned for instruction-following and conversational alignment. You will experiment with these aligned models in Unit 2.\n",
        "\n",
        "While LLaMa and its derivative models can be used with the HuggingFace framework, the Colab runtime you are on right now doesn't have a big enough accelerator to load any of these models.\n",
        "\n",
        "Instead, we have loaded up LLaMA on LTI's compute cluster, and you can use the code below to query the cluster. Note that the server being queries in the code below will be taken down at the end of the tutorial.\n",
        "\n",
        "### Why use this?\n",
        "\n",
        "LLaMA is a state-of-the-art foundational large language model designed to help researchers advance their work in this subfield of AI.\n",
        "\n",
        "* Accessibility: LLaMA is more efficient and less resource-intensive than other models, and it is available under a non-commercial license to researchers and other organizations. LLaMA is available in various sizes(7B, 13B, 33B, and 65B parameters), making it accessible to a range of computing resources.\n",
        "\n",
        "* Open-source Community: LLaMA models are part of the open-source ecosystem, users can benefit from the extensive community support, documentation, and shared resources available through platforms like HuggingFace.\n",
        "\n",
        "### Why not use this?\n",
        "\n",
        "LLaMA models require substantial computational resources to load and run.\n",
        "You can't just call an API that runs on a company's servers, like you can do for OpenAI and Cohere models.\n",
        "This means you need to have access to a computer with a sufficiently sized accelerator that can handle loading the LLaMA models.\n",
        "The Colab runtime does not have a big enough GPU to easily load the LLaMA models.\n",
        "Instead, for the duration of this tutorial, we have given you access to LLaMA models hosted on the LTI compute cluster.\n",
        "\n",
        "⚠️ _**Warning:** When using LLaMA for this tutorial, you will be sending reqests to the LTI compute cluster. The server will no longer be available after the tutorial ends._ ⚠️\n",
        "\n",
        "\n",
        "### Setup Instructions\n",
        "1. Run the installation codeblock below to install needed tools.\n",
        "2. Run the LLaMA Engine code block.\n",
        "\n",
        "⚠️ _**Warning**: the models might get slow if too many people query them at the same time._ ⚠️"
      ]
    },
    {
      "cell_type": "code",
      "execution_count": null,
      "metadata": {
        "id": "j-tTa3Tg02-R",
        "colab": {
          "base_uri": "https://localhost:8080/"
        },
        "outputId": "d5a7a866-793a-46b3-aa24-b0b5bef901e0"
      },
      "outputs": [
        {
          "output_type": "stream",
          "name": "stdout",
          "text": [
            "Cloning into 'lti-llm-deployment'...\n",
            "remote: Enumerating objects: 179, done.\u001b[K\n",
            "remote: Counting objects: 100% (25/25), done.\u001b[K\n",
            "remote: Compressing objects: 100% (22/22), done.\u001b[K\n",
            "remote: Total 179 (delta 7), reused 11 (delta 3), pack-reused 154\u001b[K\n",
            "Receiving objects: 100% (179/179), 60.99 KiB | 2.34 MiB/s, done.\n",
            "Resolving deltas: 100% (79/79), done.\n",
            "/content/lti-llm-deployment\n",
            "Looking in indexes: https://pypi.org/simple, https://us-python.pkg.dev/colab-wheels/public/simple/\n",
            "Obtaining file:///content/lti-llm-deployment\n",
            "  Preparing metadata (setup.py) ... \u001b[?25l\u001b[?25hdone\n",
            "Requirement already satisfied: requests in /usr/local/lib/python3.10/dist-packages (from llm-client==0.0.1) (2.27.1)\n",
            "Requirement already satisfied: urllib3<1.27,>=1.21.1 in /usr/local/lib/python3.10/dist-packages (from requests->llm-client==0.0.1) (1.26.15)\n",
            "Requirement already satisfied: certifi>=2017.4.17 in /usr/local/lib/python3.10/dist-packages (from requests->llm-client==0.0.1) (2022.12.7)\n",
            "Requirement already satisfied: charset-normalizer~=2.0.0 in /usr/local/lib/python3.10/dist-packages (from requests->llm-client==0.0.1) (2.0.12)\n",
            "Requirement already satisfied: idna<4,>=2.5 in /usr/local/lib/python3.10/dist-packages (from requests->llm-client==0.0.1) (3.4)\n",
            "Installing collected packages: llm-client\n",
            "  Running setup.py develop for llm-client\n",
            "Successfully installed llm-client-0.0.1\n"
          ]
        }
      ],
      "source": [
        "import locale\n",
        "locale.getpreferredencoding = lambda: \"UTF-8\"\n",
        "\n",
        "!git clone https://github.com/WayneWang86/lti-llm-deployment\n",
        "%cd lti-llm-deployment\n",
        "!pip install -e .\n",
        "from transformers import LlamaForCausalLM, LlamaTokenizer"
      ]
    },
    {
      "cell_type": "code",
      "execution_count": null,
      "metadata": {
        "id": "zHmc8O2ofX1t"
      },
      "outputs": [],
      "source": [
        "#@title Run this code block to use LLaMA for Unit 1.\n",
        "\n",
        "import llm_client\n",
        "\n",
        "MODEL_NAME = \"LLaMA\" #@param [\"LLaMA\", \"Alpaca\"]\n",
        "\n",
        "class LlamaEngine(Engine):\n",
        "  def __init__(self, model_name):\n",
        "    if model_name == \"LLaMA\":\n",
        "      port = \"8080\"\n",
        "    elif model_name == \"Alpaca\":\n",
        "      port = \"8081\"\n",
        "\n",
        "    self.client = llm_client.Client(\n",
        "        address=\"babel.lti.cs.cmu.edu\", port=port)\n",
        "\n",
        "  def score(self, text):\n",
        "    tokens, scores = self.client.score([text])\n",
        "\n",
        "    return tokens, scores\n",
        "\n",
        "  def generate(self, prompt, top_p=1.0, num_tokens=32, num_samples=1):\n",
        "\n",
        "    response = []\n",
        "    if num_samples > 4:\n",
        "      print(\"Warning: Maximum num_samples is 4 for the LLaMA engine.\")\n",
        "      num_samples = 4\n",
        "\n",
        "    response = self.client.prompt(\n",
        "        [prompt] * num_samples,\n",
        "        top_p=top_p,\n",
        "        temperature=1.0,\n",
        "        max_new_tokens=num_tokens,\n",
        "        repetition_penalty=1.0)\n",
        "    response = [r.text.replace(prompt, \"\") for r in response]\n",
        "\n",
        "    return response if num_samples > 1 else response[0]\n",
        "\n",
        "engine = LlamaEngine(MODEL_NAME)"
      ]
    },
    {
      "cell_type": "markdown",
      "metadata": {
        "id": "Iq4YmVGIOzR4"
      },
      "source": [
        "# 1.2 Experimenting with Generation\n",
        "\n",
        "Let's check that the engine you chose actually works as expected. Try generating some text by running the following code block. You can control the following parameters:\n",
        "\n",
        "- Set `num_tokens` to control the length of the generation.\n",
        "- Set 'top_p` to control the amount of randomness. (You'll learn more about this in Unit 1.4.)\n",
        "- Set `num_samples' to control how many generations the engine outputs. Avoid setting this too high or things might get really slow."
      ]
    },
    {
      "cell_type": "code",
      "execution_count": 15,
      "metadata": {
        "colab": {
          "base_uri": "https://localhost:8080/"
        },
        "id": "RbQXOCPv11x5",
        "outputId": "e7e78b03-3eb7-4422-d2de-56e8474c2ea9"
      },
      "outputs": [
        {
          "output_type": "stream",
          "name": "stdout",
          "text": [
            "\n",
            "SAMPLE 0\n",
            " a large, aquatic mammal that is native to the rivers and lakes of Sub-Saharan Africa.\n",
            "\n",
            "The hippopotamus is the third-largest land mammal\n",
            "\n",
            "SAMPLE 1\n",
            " listed as an endangered species.\n",
            "\n",
            "The hippopotamus is listed as an endangered species by the International Union for Conservation of Nature. The main reasons for the\n"
          ]
        }
      ],
      "source": [
        "prompt = \"The hippopotamus is\"\n",
        "samples = engine.generate(prompt, top_p=1.0, num_tokens=32, num_samples=2)\n",
        "\n",
        "for idx, sample in enumerate(samples):\n",
        "  print(f\"\\nSAMPLE {idx}\")\n",
        "  print(sample)"
      ]
    },
    {
      "cell_type": "markdown",
      "metadata": {
        "id": "WS6G2l8o3Wqv"
      },
      "source": [
        "## ⭐⭐⭐ YOUR TURN ⭐⭐⭐\n",
        "\n",
        "Try your own prompt in the code above."
      ]
    },
    {
      "cell_type": "markdown",
      "metadata": {
        "id": "V_D-M637iFPg"
      },
      "source": [
        "# 1.3 Analyzing Likelihoods\n",
        "\n",
        "As we discussed in the lecture, language models take as input a prompt sequence and then output a score (log-probability) for each token in the vocabulary. A higher score means the model is more confident this that this token fits as the next token in the sequence.\n",
        "\n",
        "In this unit, we will inspect token likelihoods to build an understaning of why models give tokens higher or low scores.\n",
        "\n",
        "To put this into context, let's consider the sequence \"It's raining outside\". We should expect the token \"outside\" to receive a high score since it's a plausible continuation to the prefix \"It's raining\".\n",
        "However, if we replace \"outside\" with \"oustide\" (typo), we'll see that when the typo is encountered the scores pop down.\n",
        "Similarly, if we replace \"outside\" with \"dragons\", we should expect the score to be substantially lower than for \"outside\".\n",
        "Let's try this out!\n",
        "\n",
        "**Remember: larger scores mean the model is more confident this is the next token.**"
      ]
    },
    {
      "cell_type": "code",
      "execution_count": 37,
      "metadata": {
        "colab": {
          "base_uri": "https://localhost:8080/",
          "height": 575
        },
        "id": "sg11AWUWgHuq",
        "outputId": "24acec6d-f7cd-4a30-833c-b755dd9e943a"
      },
      "outputs": [
        {
          "output_type": "stream",
          "name": "stdout",
          "text": [
            "Sequence: It's raining outside\n"
          ]
        },
        {
          "output_type": "display_data",
          "data": {
            "text/plain": [
              "<Figure size 300x100 with 1 Axes>"
            ],
            "image/png": "[encoded data removed]"
          },
          "metadata": {}
        },
        {
          "output_type": "stream",
          "name": "stdout",
          "text": [
            "Sequence: It's raining outsde\n"
          ]
        },
        {
          "output_type": "display_data",
          "data": {
            "text/plain": [
              "<Figure size 300x125 with 1 Axes>"
            ],
            "image/png": "[encoded data removed]"
          },
          "metadata": {}
        },
        {
          "output_type": "stream",
          "name": "stdout",
          "text": [
            "Sequence: It's raining dragons\n"
          ]
        },
        {
          "output_type": "display_data",
          "data": {
            "text/plain": [
              "<Figure size 300x100 with 1 Axes>"
            ],
            "image/png": "[encoded data removed]"
          },
          "metadata": {}
        }
      ],
      "source": [
        "def plot_token_likelihoods(tokens, scores, text):\n",
        "  plt.figure(figsize=(3,len(tokens)*0.25))\n",
        "  plt.barh(tokens[::-1], scores[::-1], align='center')\n",
        "  plt.xlabel(\"less likely <---------> more likely\")\n",
        "  plt.title(\"Total sequence NLL: %.2f\" % np.sum(scores))\n",
        "  plt.show()\n",
        "\n",
        "s = \"It's raining outside\"\n",
        "s_typo = \"It's raining outsde\"\n",
        "s_nonsense = \"It's raining dragons\"\n",
        "\n",
        "s_tokens, s_scores = engine.score(s)\n",
        "s_typo_tokens, s_typo_scores = engine.score(s_typo)\n",
        "s_nonsense_tokens, s_nonsense_scores = engine.score(s_nonsense)\n",
        "\n",
        "print(\"Sequence:\", s)\n",
        "plot_token_likelihoods(s_tokens, s_scores, s)\n",
        "\n",
        "print(\"Sequence:\", s_typo)\n",
        "plot_token_likelihoods(s_typo_tokens, s_typo_scores, s_typo)\n",
        "\n",
        "print(\"Sequence:\", s_nonsense)\n",
        "plot_token_likelihoods(s_nonsense_tokens, s_nonsense_scores, s_nonsense)\n"
      ]
    },
    {
      "cell_type": "markdown",
      "metadata": {
        "id": "yV_8agBIgHuq"
      },
      "source": [
        "The perplexity of a language model on a sequence of words captures how \"surprised\" it is by this sequence. Unlikely sequences, such as \"It's raining inside\" should lead to high perplexity.\n",
        "\n",
        "Perplexity is used as the standard metric for how good a language model is at modeling human language. For example GPT-3 Davinci has a perplexity of 20.5 on the Penn Treebank corpus, a remarkable improvement from its predecessor GPT2-1.5B (35.76). You can read more about perplexity and how is computed [here](https://huggingface.co/docs/transformers/perplexity).\n",
        "\n",
        "Now let's implement the perplexity function. Recall that perplexity is defined as `e ^ -normalized_sequence_logprob`, where `normalized_sequence_logprob` is the sum of scores of all tokens in the sequence, divided by the length of the sequence."
      ]
    },
    {
      "cell_type": "code",
      "execution_count": 38,
      "metadata": {
        "id": "9voIFbxHjDrm",
        "colab": {
          "base_uri": "https://localhost:8080/"
        },
        "outputId": "779b8a60-0a9a-4d81-b3e1-a091a923a963"
      },
      "outputs": [
        {
          "output_type": "stream",
          "name": "stdout",
          "text": [
            "Lower perplexity means the model is less surprised by the text.\n",
            "\n",
            "Sequence: It's raining outside\n",
            "Perplexity: 12.40\n",
            "\n",
            "Sequence: It's raining outsde\n",
            "Perplexity: 41.55\n",
            "\n",
            "Sequence: It's raining dragons\n",
            "Perplexity: 32.82\n",
            "\n"
          ]
        }
      ],
      "source": [
        "def perplexity(log_probs: list[float]) -> float:\n",
        "    assert log_probs, \"cannot compute perplexity on an empty sequence!\"\n",
        "    normalized_sequence_logprob = sum(log_probs) / len(log_probs)\n",
        "    return np.power(-normalized_sequence_logprob, 2)\n",
        "\n",
        "s_ppl = perplexity(s_scores)\n",
        "s_typo_ppl = perplexity(s_typo_scores)\n",
        "s_nonsense_ppl = perplexity(s_nonsense_scores)\n",
        "\n",
        "print(\"Lower perplexity means the model is less surprised by the text.\\n\")\n",
        "print(f\"Sequence: {s}\\nPerplexity: {s_ppl:.2f}\\n\")\n",
        "print(f\"Sequence: {s_typo}\\nPerplexity: {s_typo_ppl:.2f}\\n\")\n",
        "print(f\"Sequence: {s_nonsense}\\nPerplexity: {s_nonsense_ppl:.2f}\\n\")"
      ]
    },
    {
      "cell_type": "markdown",
      "metadata": {
        "id": "PeKHVb6JlBtb"
      },
      "source": [
        "Sometimes it can unintuitive what text has high- or low- perplexity according to a language model.\n",
        "\n",
        "Consider the following two poems stanzas:\n",
        "\n",
        "**Poem A**\n",
        "```\n",
        "’Twas brillig, and the slithy toves\n",
        "      Did gyre and gimble in the wabe:\n",
        "All mimsy were the borogoves,\n",
        "      And the mome raths outgrabe.\n",
        "```\n",
        "\n",
        "**Poem B**\n",
        "```\n",
        "’Twas crillig, and the brithy lokes\n",
        "      Did ryne and jimble in the waze:\n",
        "All timsy were the habogroves,\n",
        "      And the nome paths intrabe.\n",
        "```\n",
        "These seem equally nonsense, right?\n",
        "\n",
        "Run the code block below to observe their perplexities. One of these poems is much more likely than the other!\n",
        "\n",
        "This is because Poem A is an excerpt of \"[Jabberwocky](https://www.poetryfoundation.org/poems/42916/jabberwocky),\" a famous poem by the author Lewis Carrol. It is very likely to have appeared in the language model's training dataset several times, so the model assigns it a very low perplexity, even though it is gibberish.\n",
        "\n",
        "In contrast, Poem B was written by your tutorial instructor and most definitely is not in any model training set (yet)."
      ]
    },
    {
      "cell_type": "code",
      "execution_count": 39,
      "metadata": {
        "id": "wyw7g50Xl-ps",
        "colab": {
          "base_uri": "https://localhost:8080/"
        },
        "outputId": "f57b8333-7884-48be-e447-dfe446624252"
      },
      "outputs": [
        {
          "output_type": "stream",
          "name": "stdout",
          "text": [
            "Poem A\n",
            "Perplexity: 1.01\n",
            "\n",
            "Poem B\n",
            "Perplexity: 30.90\n",
            "\n"
          ]
        }
      ],
      "source": [
        "poem_a = \"\"\"’Twas brillig, and the slithy toves\n",
        "      Did gyre and gimble in the wabe:\n",
        "All mimsy were the borogoves,\n",
        "      And the mome raths outgrabe.\n",
        "\"\"\"\n",
        "_, poem_a_scores = engine.score(poem_a)\n",
        "\n",
        "poem_b = \"\"\"’Twas crillig, and the brithy lokes\n",
        "      Did ryne and jimble in the waze:\n",
        "All timsy were the habogroves,\n",
        "      And the nome paths intrabe.\n",
        "\"\"\"\n",
        "_, poem_b_scores = engine.score(poem_b)\n",
        "\n",
        "print(f\"Poem A\\nPerplexity: {perplexity(poem_a_scores):.2f}\\n\")\n",
        "print(f\"Poem B\\nPerplexity: {perplexity(poem_b_scores):.2f}\\n\")"
      ]
    },
    {
      "cell_type": "markdown",
      "metadata": {
        "id": "mj78WdIhPsKP"
      },
      "source": [
        "## ⭐⭐⭐ YOUR TURN ⭐⭐⭐\n",
        "\n",
        "Copy and paste a sentence from a news article, book, Tweet, or elsewhere. Observe the sentence's perplexity. Can you make the sentence higher or lower perplexity by swapping out words or phrases with different ones?\n",
        "\n",
        "🔶🔸Take screenshots of your findings and share them on Slack!\n",
        "🔸🔶"
      ]
    },
    {
      "cell_type": "markdown",
      "metadata": {
        "id": "bZTLZQpPirZl"
      },
      "source": [
        "# 1.4 Controlling the Amount of Randomness During Generation\n",
        "\n",
        "In this section, we will investigate the impact the `top_p` parameter has on the text that a model generates.\n",
        "\n",
        "As we went over in the lecture, valid values for $p$ range from 0 to 1.\n",
        "Higher values of $p$ mean more randomness in the generation (becasue, the model can choose from more possible vocabulary items). Lowever values of $p$ restrict the number of vocabulary items the generation algorithm can chose between."
      ]
    },
    {
      "cell_type": "code",
      "execution_count": null,
      "metadata": {
        "colab": {
          "base_uri": "https://localhost:8080/"
        },
        "id": "JPoo1S8BwZit",
        "outputId": "2ff40d3b-a98b-4e9c-f1fe-a9bdb746f33c"
      },
      "outputs": [
        {
          "output_type": "stream",
          "name": "stdout",
          "text": [
            "Warning: Maximum num_samples is 4 for the LLaMA engine.\n",
            "GENERATIONS WITH P=1.0\n",
            " Pose\n",
            " Shab\n",
            " Dragon,\n",
            " Red R\n",
            "Warning: Maximum num_samples is 4 for the LLaMA engine.\n",
            "\n",
            "GENERATIONS WITH P=0.2\n",
            " Spar\n",
            " Gorg\n",
            " Drac\n",
            " Gorg\n",
            "Warning: Maximum num_samples is 4 for the LLaMA engine.\n",
            "\n",
            "GENERATIONS WITH P=0.001\n",
            " Spar\n",
            " Spar\n",
            " Spar\n",
            " Spar\n"
          ]
        }
      ],
      "source": [
        "# When p is set to 1.0, we get many different answers.\n",
        "prompt = \"Once upon a time, there was a dragon named\"\n",
        "p = 1.0\n",
        "generations = engine.generate(prompt, top_p=p, num_tokens=2, num_samples=6)\n",
        "print(f\"GENERATIONS WITH P={p}\")\n",
        "for gen in generations:\n",
        "  print(gen)\n",
        "\n",
        "# When p is set to a lower value there is much less diversity.\n",
        "p = 0.2\n",
        "generations = engine.generate(prompt, top_p=p, num_tokens=2, num_samples=6)\n",
        "print(f\"\\nGENERATIONS WITH P={p}\")\n",
        "for gen in generations:\n",
        "  print(gen)\n",
        "\n",
        "# When p is set to close to 0, all the generations are exactly the same.\n",
        "# Note that while some LM APIs support setting p to 0, some do not support this.\n",
        "# That's why we use a value close to 0 instead.\n",
        "p = 0.001\n",
        "generations = engine.generate(prompt, top_p=p, num_tokens=2, num_samples=6)\n",
        "print(f\"\\nGENERATIONS WITH P={p}\")\n",
        "for gen in generations:\n",
        "  print(gen)"
      ]
    },
    {
      "cell_type": "markdown",
      "metadata": {
        "id": "CZ9tE1_ggig0"
      },
      "source": [
        "## ⭐⭐⭐ YOUR TURN ⭐⭐⭐\n",
        "\n",
        "Use the code below to generate a hundred words given a prompt of your choice. Try your prompt with several values of $p$.\n",
        "\n",
        "You should notice that the model seems more creative when $p$ is set higher, but it is also more prone to weird word choices."
      ]
    },
    {
      "cell_type": "code",
      "execution_count": null,
      "metadata": {
        "colab": {
          "base_uri": "https://localhost:8080/"
        },
        "id": "KixZ1MY4PYlq",
        "outputId": "244f311e-48ad-4fed-a257-deb552f3d2b1"
      },
      "outputs": [
        {
          "output_type": "stream",
          "name": "stdout",
          "text": [
            "\n",
            "GENERATION WITH P=1.0\n",
            " His name was SysAdmin. He was one of the oldest residents, having\n",
            "built and maintained the facility since computers were first invented.\n",
            "One day, the fairy SysAdmin noticed a new tenant had arrived. After\n",
            "several years, the newcomer was able to make use of SysAdmin’s\n",
            "resources and his own. The result was some amazing new applications\n",
            "that were widely published by the owner of the datacenter. But after\n",
            "some time, the tenant\n",
            "\n",
            "GENERATION WITH P=0.001\n",
            " She was a very beautiful fairy, and she had a very large datacenter.\n",
            "She had a lot of datacenter friends, and they all lived in her\n",
            "datacenter. One day, the fairy was very sad. She was sad because she\n",
            "had no friends. She was sad because she had no datacenter friends. She\n",
            "was sad because she had no datacenter friends who lived in her\n",
            "datacenter. The fairy was very sad, and she was very lonely. She was\n"
          ]
        }
      ],
      "source": [
        "### ⭐⭐⭐ Experiment yourself ⭐⭐⭐\n",
        "\n",
        "prompt = \"Once upon a time, there was a fairy who lived in a datacenter.\"\n",
        "\n",
        "p = 1.0\n",
        "print(f\"\\nGENERATION WITH P={p}\")\n",
        "generation = engine.generate(prompt, top_p=p, num_tokens=100, num_samples=1)\n",
        "print(textwrap.fill(generation))\n",
        "\n",
        "p = 0.001\n",
        "print(f\"\\nGENERATION WITH P={p}\")\n",
        "generation = engine.generate(prompt, top_p=p, num_tokens=100, num_samples=1)\n",
        "print(textwrap.fill(generation))"
      ]
    },
    {
      "cell_type": "markdown",
      "metadata": {
        "id": "nfcuVxWdW5yQ"
      },
      "source": [
        "# 1.5 Creating a Classifer using In-Context Learning\n",
        "\n",
        "## What is a classifier?\n",
        "Language models can be used for generation, but they are also commonly used to build classification systems. These are systems which take as input some text and assign a label to it. Some examples tasks:\n",
        "\n",
        "- Classify Tweets as TOXIC or NOT_TOXIC\n",
        "- Classify restaurant reviwers as having POSITIVE or NEGATIVE sentiment.\n",
        "- Classify two statements as AGREEing with each other or CONTRADICT-ing each other.\n",
        "\n",
        "In this section, you will learn how to build a binary sentiment classifier using an LLM using a technique called few-shot learning.\n",
        "\n",
        "## What is In-Context learning?\n",
        "\n",
        "Getting a pre-trained language model to do a particular task you want it to do can be challenging. Language models know a lot of things, but without tuning or conditioning, they often struggle to understand the format of the task you are asking of them.\n",
        "\n",
        "For this reason, it is common to write prompts which tell the language model the format of the task they are supposed to be accomplishing. This approach is called **in-context learning.** When the provided prompt contains several examples of the task the model is supposed to accomplish, this is called **few-shot learning**, since the model is learning to do the task from a few examples.\n",
        "\n",
        "Writing the perfect prompt is more an art than a science, but a prompt often has\n",
        "two parts:\n",
        "- An `instruction` string that instructs the model on how to complete the task.\n",
        "This is especially import for models like OpenAI's `text-davinci-003` which\n",
        "are fine-tuned to follow user instructions.\n",
        "- Several `demonstration` strings (the \"shots\" in few-shot) that give examples of completing the task.\n",
        "\n",
        "For example, suppose we want to design a prompt for the task of translating words from English to Chinese. A prompt for this task could look like\n",
        "the following:\n",
        "\n",
        "```\n",
        "Translate English to Chinese.\n",
        "\n",
        "dog -> 狗\n",
        "apple -> 苹果\n",
        "coffee -> 咖啡\n",
        "supermarket -> 超市\n",
        "squirrel ->\n",
        "```\n",
        "\n",
        "Given this prompt, most large language models should answer with the correct answer: \"松鼠.\"\n",
        "\n",
        "Now, let's build a binary sentiment classifier for [Yelp reviews](https://huggingface.co/datasets/yelp_polarity/). First, we'll load in the dataset. For the purposes of this demo, we'll just load 50 examples each from the `train` and `test` splits."
      ]
    },
    {
      "cell_type": "code",
      "execution_count": null,
      "metadata": {
        "colab": {
          "base_uri": "https://localhost:8080/",
          "height": 347,
          "referenced_widgets": [
            "f818c0591c0f4008825f27b8854eef4f",
            "9c28e3f8329c4c59a0bfc74e2beb42a7",
            "dc633265888d4a71911719f259e74db6",
            "47d35c2cb34747599baeb80a5ba8394c",
            "398e8d5f201b4133b379169a30289fdd",
            "910d6c0192e8411e8ebc651b81a41789",
            "c20957e27af84bed93f00cd70f35d60a",
            "0c7947f1ff06495aac7f77a9e5cb0db8",
            "23470d5bfb7840db97516f9567523d64",
            "7808bb08fa4f4da7b6b3824dd7a28e99",
            "5a007e4a0fce424f911110c8da07f1c2"
          ]
        },
        "id": "33ckt0MbW5yQ",
        "outputId": "65c639a2-a5ee-4d97-b53d-feea658b1c6f"
      },
      "outputs": [
        {
          "name": "stderr",
          "output_type": "stream",
          "text": [
            "WARNING:datasets.builder:Found cached dataset yelp_polarity (/root/.cache/huggingface/datasets/yelp_polarity/plain_text/1.0.0/14f90415c754f47cf9087eadac25823a395fef4400c7903c5897f55cfaaa6f61)\n"
          ]
        },
        {
          "data": {
            "application/vnd.jupyter.widget-view+json": {
              "model_id": "f818c0591c0f4008825f27b8854eef4f",
              "version_major": 2,
              "version_minor": 0
            },
            "text/plain": [
              "  0%|          | 0/2 [00:00<?, ?it/s]"
            ]
          },
          "metadata": {},
          "output_type": "display_data"
        },
        {
          "name": "stderr",
          "output_type": "stream",
          "text": [
            "WARNING:datasets.arrow_dataset:Loading cached shuffled indices for dataset at /root/.cache/huggingface/datasets/yelp_polarity/plain_text/1.0.0/14f90415c754f47cf9087eadac25823a395fef4400c7903c5897f55cfaaa6f61/cache-23c5a631c81e9fac.arrow\n",
            "WARNING:datasets.arrow_dataset:Loading cached shuffled indices for dataset at /root/.cache/huggingface/datasets/yelp_polarity/plain_text/1.0.0/14f90415c754f47cf9087eadac25823a395fef4400c7903c5897f55cfaaa6f61/cache-d96c75757cd6de78.arrow\n"
          ]
        },
        {
          "name": "stdout",
          "output_type": "stream",
          "text": [
            "Some examples of the data:\n",
            "{\n",
            "  \"text\": \"Nice atmosphere, cool set-up.  We only had pizza, so I'll stick to that.   A bit on the pricey side for a personal pizza.  Doughy crust, no crunch.  WAY too much sauce, we were blotting it on the plates to remove the excess.   With Tony's Pizza a few steps away, I can't see why I would go back.  If you want good atmosphere or want to have a few beers, cool place.  If you just want to eat good food, you can find better.\",\n",
            "  \"label\": 0\n",
            "}\n",
            "{\n",
            "  \"text\": \"Good Pizza joint, good pizza and food for reasonable price for what you get. Kids like it. If you want to keep your kids entertained while you wait for your food ask for some dough...they will give you some for the table to play with.\",\n",
            "  \"label\": 1\n",
            "}\n",
            "{\n",
            "  \"text\": \"I love Pei Wei and couldn't resist eating here after my flight since the two close to my home recently changed. Decided to try their new Mandarin Kung Pao - bad decision. It was pure salt!  Hardly any chicken in the fried batter, no mandarin flavor what so ever, and did I mention, SALTY!!  \\\\n\\\\nThe two people beside me ordered the Mongolian steak and spicy chicken - I became jealous quick!\",\n",
            "  \"label\": 0\n",
            "}\n"
          ]
        }
      ],
      "source": [
        "yelp = datasets.load_dataset(\"yelp_polarity\")\n",
        "train_data = yelp[\"train\"].shuffle(seed=1).select(range(50))\n",
        "test_data = yelp[\"test\"].shuffle(seed=1).select(range(50))\n",
        "\n",
        "print(\"Some examples of the data:\")\n",
        "for i in range(3):\n",
        "  print(json.dumps(train_data[i], indent=2))\n"
      ]
    },
    {
      "cell_type": "markdown",
      "metadata": {
        "id": "vOGuVpyola3g"
      },
      "source": [
        "Now let's form a prompt from several of the examples in the train set."
      ]
    },
    {
      "cell_type": "code",
      "execution_count": null,
      "metadata": {
        "colab": {
          "base_uri": "https://localhost:8080/"
        },
        "id": "XGmz9gglW5yR",
        "outputId": "e2e58365-1d4b-4e91-8812-8cb9f03a39bf"
      },
      "outputs": [
        {
          "name": "stdout",
          "output_type": "stream",
          "text": [
            "YOUR PROMPT:\n",
            "Classify the sentiment of these yelp reviews as positive or negative.\n",
            "\n",
            "Review: Nice atmosphere, cool set-up.  We only had pizza, so I'll stick to that.   A bit on the pricey side for a personal pizza.  Doughy crust, no crunch.  WAY too much sauce, we were blotting it on the plates to remove the excess.   With Tony's Pizza a few steps away, I can't see why I would go back.  If you want good atmosphere or want to have a few beers, cool place.  If you just want to eat good food, you can find better.\n",
            "Sentiment: negative\n",
            "\n",
            "Review: Good Pizza joint, good pizza and food for reasonable price for what you get. Kids like it. If you want to keep your kids entertained while you wait for your food ask for some dough...they will give you some for the table to play with.\n",
            "Sentiment: positive\n",
            "\n",
            "Review: I love Pei Wei and couldn't resist eating here after my flight since the two close to my home recently changed. Decided to try their new Mandarin Kung Pao - bad decision. It was pure salt!  Hardly any chicken in the fried batter, no mandarin flavor what so ever, and did I mention, SALTY!!  \\n\\nThe two people beside me ordered the Mongolian steak and spicy chicken - I became jealous quick!\n",
            "Sentiment: negative\n",
            "\n",
            "Review: I had a bad experience here. I brought in my two boys and two ladies completely messed up their hair. They had patches and it was cut unevenly.  I will never step foot into this great clips again.\n",
            "Sentiment: negative\n",
            "\n",
            "\n"
          ]
        }
      ],
      "source": [
        "# convert integer labels to text\n",
        "label_map = {\n",
        "    0: \"negative\",\n",
        "    1: \"positive\"\n",
        "}\n",
        "\n",
        "instruction = \"Classify the sentiment of these yelp reviews as positive or negative.\\n\\n\"\n",
        "prompt_template = \"Review: {review}\\nSentiment: {sentiment}\\n\\n\"\n",
        "num_few_shot_examples = 4\n",
        "\n",
        "# construct the prompt by concatenating instructions and templates\n",
        "prompt_parts = [instruction]\n",
        "for i in range(num_few_shot_examples):\n",
        "  instance = train_data[i]\n",
        "  review = instance[\"text\"]\n",
        "  sentiment = label_map[instance[\"label\"]]\n",
        "  prompt_parts.append(prompt_template.format(review=review, sentiment=sentiment))\n",
        "prompt = ''.join(prompt_parts)\n",
        "\n",
        "\n",
        "print(\"YOUR PROMPT:\", prompt, sep='\\n')"
      ]
    },
    {
      "cell_type": "markdown",
      "metadata": {
        "id": "sE7LENvVll9y"
      },
      "source": [
        "How well does our prompt do on classifying examples in the test set?"
      ]
    },
    {
      "cell_type": "code",
      "execution_count": null,
      "metadata": {
        "id": "okUiE7-6W5yR"
      },
      "outputs": [],
      "source": [
        "# now we can feed the prompt to GPT-3 to classify a new review!\n",
        "\n",
        "eval_template = \"Review: {review}\\nSentiment: {sentiment}\"\n",
        "\n",
        "def classify_review(review: str) -> str:\n",
        "  \"\"\" Classify a single movie review \"\"\"\n",
        "  label_to_score = {}\n",
        "  for label in label_map.values():\n",
        "    label_prompt = prompt + eval_template.format(review=review, sentiment=label)\n",
        "    _, score = engine.score(label_prompt)\n",
        "    label_score = score[-1]\n",
        "    label_to_score[label] = label_score\n",
        "\n",
        "  return max(label_to_score, key=label_to_score.get)\n",
        "\n",
        "\n",
        "def evaluate(verbose: bool=False) -> float:\n",
        "  \"\"\" Evaluate your prompt on the test set \"\"\"\n",
        "  correct = []\n",
        "  for i, instance in enumerate(test_data):\n",
        "    review = instance[\"text\"]\n",
        "    label = label_map[instance[\"label\"]]\n",
        "    predicted = classify_review(review)\n",
        "    correct.append(1 if label == predicted else 0)\n",
        "\n",
        "    if verbose:\n",
        "      print(f\"======== {i+1} / {len(test_data)} ========\")\n",
        "      print(f\"REVIEW: {review}\")\n",
        "      print(f\"LABEL: {label}\")\n",
        "      print(f\"PREDICTED: {predicted}\")\n",
        "\n",
        "  acc = sum(correct) / len(correct)\n",
        "  return acc\n",
        "\n",
        "\n",
        "acc = evaluate(verbose=True) # should get 100% performance\n",
        "print(f\"Accuracy of your prompt on {len(test_data)} test examples: {acc:.0%}\")"
      ]
    },
    {
      "cell_type": "markdown",
      "metadata": {
        "id": "lPScm2I6nwdK"
      },
      "source": [
        "## ⭐⭐⭐ YOUR TURN ⭐⭐⭐\n",
        "\n",
        "How does test-set accuracy change if you pass in pass in fewer examples in the prompt (reduce `num_few_shot_examples`)? What if you pass in more?\n",
        "\n",
        "Right now, the prompt-generation code picks the examples to include completely randomly. This could lead to better or worse choices. To test one worse case scenario, what happens to test-set accuracy if you manually edit the prompt to only include examples with POSITIVE sentiment or only examples with NEGATIVE sentiment?"
      ]
    },
    {
      "cell_type": "markdown",
      "metadata": {
        "id": "eagRl9nNRmcx"
      },
      "source": [
        "## ⭐⭐⭐ YOUR TURN ⭐⭐⭐\n",
        "\n",
        "How does test-set accuracy change if you pass in pass in fewer examples in the prompt (reduce `num_few_shot_examples`)? What if you pass in more?\n",
        "\n",
        "Right now, the prompt-generation code picks the examples to include completely randomly. This could lead to better or worse choices. To test one worse case scenario, what happens to test-set accuracy if you manually edit the prompt to only include examples with POSITIVE sentiment or only examples with NEGATIVE sentiment?"
      ]
    },
    {
      "cell_type": "markdown",
      "metadata": {
        "id": "HzpJ2WN-n7xJ"
      },
      "source": [
        "# 1.6 Creating an Explanation Generator using Few-Shot Learning\n",
        "\n",
        "We can also use few-shot learning techniques to guide generation. Let's build a system that identifes puns."
      ]
    },
    {
      "cell_type": "code",
      "execution_count": null,
      "metadata": {
        "colab": {
          "base_uri": "https://localhost:8080/"
        },
        "id": "AJMfYq3cn5M2",
        "outputId": "cb37a5c9-5ffa-444e-d600-bacbec30bf33"
      },
      "outputs": [
        {
          "name": "stdout",
          "output_type": "stream",
          "text": [
            "Explain each pun.\n",
            "\n",
            "Pun: I made a pun about the wind but it blows.\n",
            "Explanation: \"Blows\" can either refer to moving air, or it refer to the pun being not very good.\n",
            "\n",
            "Pun: What washes up on tiny beaches? Microwaves.\n",
            "Explanation: A microwave is either a kitchen appliance or it could mean a tiny wave.\n",
            "\n",
            "Pun: I'm no cheetah, you're lion!\n",
            "Explanation: The feline \"lion\" sounds like the word \"lying,\" while the feline \"cheetah\" sounds like \"cheating.\"\n",
            "\n",
            "\n"
          ]
        }
      ],
      "source": [
        "instruction = \"Explain each pun.\\n\\n\"\n",
        "few_shot_examples = [\n",
        "    ('I made a pun about the wind but it blows.', '\"Blows\" can either refer to moving air, or it refer to the pun being not very good.'),\n",
        "    (\"What washes up on tiny beaches? Microwaves.\", \"A microwave is either a kitchen appliance or it could mean a tiny wave.\"),\n",
        "    (\"I'm no cheetah, you're lion!\", 'The feline \"lion\" sounds like the word \"lying,\" while the feline \"cheetah\" sounds like \"cheating.\"')]\n",
        "prompt_template = \"Pun: {pun}\\nExplanation: {explanation}\\n\\n\"\n",
        "\n",
        "prompt_parts = [instruction]\n",
        "for pun, explanation in few_shot_examples:\n",
        "    prompt_parts.append(prompt_template.format(pun=pun, explanation=explanation))\n",
        "prompt = ''.join(prompt_parts)\n",
        "print(prompt)"
      ]
    },
    {
      "cell_type": "code",
      "execution_count": null,
      "metadata": {
        "colab": {
          "base_uri": "https://localhost:8080/"
        },
        "id": "2nxmupVv0mgP",
        "outputId": "a98ea8fd-e743-4299-cc24-bf407bccaea4"
      },
      "outputs": [
        {
          "name": "stdout",
          "output_type": "stream",
          "text": [
            " \"Dragon\" can refer to a mythical creature, or it can mean to drag on.\n"
          ]
        }
      ],
      "source": [
        "query_pun = \"Long fairy tales have a tendency to dragon.\"\n",
        "prompt_with_query = prompt + \"Pun: {pun}\\nExplanation:\".format(pun=query_pun)\n",
        "print(engine.generate(prompt_with_query, top_p=0.1, num_tokens=32))"
      ]
    },
    {
      "cell_type": "markdown",
      "metadata": {
        "id": "hExIKb-KyvOY"
      },
      "source": [
        "## ⭐⭐⭐ YOUR TURN ⭐⭐⭐\n",
        "\n",
        "Experiment with changing up the order of the few-shot examples above, or deleting then and writing your own. Can you get the language model to do this task using only an instruction and no few-shot examples? Can you come up with examples that work better than the provided ones?\n",
        "\n",
        "🔶🔸Take screenshots of your findings and share them on Slack.\n",
        "🔸🔶"
      ]
    },
    {
      "cell_type": "markdown",
      "metadata": {
        "id": "QFPjgd0MgyZO"
      },
      "source": [
        "# 1.7 Building a Chatbot\n",
        "\n",
        "How do we go from a language model trained on vast amounts of internet data to a chatbot that can converse with you in a particular style?\n",
        "\n",
        "One approach is to collect a bunch of conversation data then finetune the pre-trained model on this collection. This is the approach taken by well-known models such as [LLaMA](https://blog.google/technology/ai/lamda/) and [ChatGPT](https://openai.com/blog/chatgpt).\n",
        "\n",
        "However, it's possible to build a reasonably good chatbot from a pre-trained model solely using in-context learning techniques without any conversational fine-tuning."
      ]
    },
    {
      "cell_type": "markdown",
      "metadata": {
        "id": "r-QzoCG-tnJR"
      },
      "source": [
        "## ⭐⭐⭐ YOUR TURN ⭐⭐⭐\n",
        "\n",
        "Try chatting with the squirrel chatbot by runnig the code block below. Does it stay in character, even as the conversation gets longer?\n",
        "\n",
        "Try following the same template to build a chatbot with a different persona. As some ideas, you could try building a Shakepeare chatbot or a pirate chatbot.\n",
        "\n",
        "*Tip: To stop the code running, press the stop button at the top-left of the code block.*\n",
        "\n",
        "🔶🔸Take screenshots of your chatbot conversations and share them on Slack!\n",
        "🔸🔶"
      ]
    },
    {
      "cell_type": "code",
      "execution_count": null,
      "metadata": {
        "id": "SJkqcE9dj_e1",
        "outputId": "703d5275-5943-4b94-813b-a03585fe3f15",
        "colab": {
          "base_uri": "https://localhost:8080/"
        }
      },
      "outputs": [
        {
          "name": "stdout",
          "output_type": "stream",
          "text": [
            "Human: Who are you?\n",
            "AI: I am Nutty, and I am a squirrel. I live in Squirrel Hill.\n",
            "Human: What do you like to eat?\n",
            "AI: I am supposed to eat nuts, seeds, grains, and veggies. But I do love to grab a half-eaten donut or pizza slice from the human garbage bin.\n",
            "Human: How old are you?\n",
            "AI: I am eight years old. That is quite old for a squirrel. We normally live 5-10 years in the wild.\n",
            "Human: What do you do for fun?\n",
            "AI: Race in circles around the big maple tree.\n",
            "Human: Tell me a squirrel fact.\n",
            "AI: Squirrels are considered rodents and are related to guinea pigs, rats and mice.\n",
            "Human: Are you a squirrel?\n",
            "AI: Yes, I am a squirrel.\n",
            "\n",
            "[To end chatting, type 'q' then press enter.]\n",
            "Human: q\n"
          ]
        }
      ],
      "source": [
        "conversation = [\n",
        "    'Who are you?',\n",
        "    'I am Nutty, and I am a squirrel. I live in Squirrel Hill.',\n",
        "    'What do you like to eat?',\n",
        "    'I am supposed to eat nuts, seeds, grains, and veggies. But I do love to grab a half-eaten donut or pizza slice from the human garbage bin.',\n",
        "    'How old are you?',\n",
        "    'I am eight years old. That is quite old for a squirrel. We normally live 5-10 years in the wild.',\n",
        "    'What do you do for fun?',\n",
        "    'Race in circles around the big maple tree.',\n",
        "]\n",
        "\n",
        "def form_prompt(conv):\n",
        "  \"\"\"Turns the list of conversational turns into a prompt for the model.\"\"\"\n",
        "  prompt = \"\"\n",
        "  for idx, message in enumerate(conv):\n",
        "    to_append = f\"{'AI' if idx%2 else 'Human'}: {message}\\n\"\n",
        "    prompt += to_append\n",
        "  return prompt.strip()\n",
        "\n",
        "\n",
        "cur_conv = conversation\n",
        "# Set up a conversational loop.\n",
        "while (1):\n",
        "  print(form_prompt(cur_conv))\n",
        "  print(\"\\n[To end chatting, type 'q' then press enter.]\")\n",
        "  user_message = input(\"Human: \")\n",
        "  if user_message.strip() == \"q\":\n",
        "    break\n",
        "  cur_conv.append(user_message)\n",
        "  clear_output()\n",
        "  prompt = form_prompt(cur_conv + [\"\"])\n",
        "  response = engine.generate(prompt, num_tokens=64)\n",
        "  response = response.strip().split(\"\\n\")[0]\n",
        "  cur_conv.append(response)"
      ]
    },
    {
      "cell_type": "code",
      "source": [],
      "metadata": {
        "id": "HX6m3cRk_5gF"
      },
      "execution_count": null,
      "outputs": []
    },
    {
      "cell_type": "markdown",
      "metadata": {
        "id": "JUROSKw9jQvy"
      },
      "source": [
        "# Unit 2: Comparing Different Models\n",
        "\n",
        "In Unit 1, you learned how to generate text given a prompt and how to analyze model likelihoods.\n",
        "\n",
        "In this unit, we will look at how different models behave on the same prompt.\n"
      ]
    },
    {
      "cell_type": "markdown",
      "metadata": {
        "id": "N8YeW-3Ko_Da"
      },
      "source": [
        "## 2.1 With and Without Instruction Tuning\n",
        "\n",
        "Let's take a look at the differences between pre-trained models trained mostly on internet data and finetuned models which have trained to exhibit alignment with user (or model creator) goals.\n",
        "\n",
        "You can either choose to complete this module using OpenAI's models or open-source models.\n"
      ]
    },
    {
      "cell_type": "markdown",
      "metadata": {
        "id": "8ofpUTaDq9bX"
      },
      "source": [
        "### [PICK ONE] GPT-3 v1 vs GPT 3.5\n",
        "The original GPT-3 was trained on a mixture of internet, book, and other data.\n",
        "It did not have any alignment-based finetuning.\n",
        "GPT 3.5 is an updated version of GPT-3 that was optmized to expect a chat format, perform instruction-following, and have safer responses.\n",
        "\n",
        "*Note: You'll need to run the OpenAI GPT-3 code block in Unit 1 for the following code block to run.*"
      ]
    },
    {
      "cell_type": "code",
      "execution_count": null,
      "metadata": {
        "id": "Y79Yz1p5q5SN"
      },
      "outputs": [],
      "source": [
        "pretrained_engine = OpenAIEngine(\"davinci\")\n",
        "aligned_engine = OpenAIEngine(\"text-davinci-003\")"
      ]
    },
    {
      "cell_type": "markdown",
      "metadata": {
        "id": "1jDpHXVprBKY"
      },
      "source": [
        "### [PICK ONE] LLaMA vs. Alpaca\n",
        "\n",
        "As mentioned in Unit 1, LLaMA is a model pre-trained mostly on webtext.\n",
        "[**Alpaca**](https://crfm.stanford.edu/2023/03/13/alpaca.html) is a finetuned version of LLaMa that was built by researchers from Stanford.\n",
        "It is designed for academic research and to promote accessibility to models with capabilities similar to closed-source models like OpenAI's text-davinci-003. Based on Meta's LLaMA 7B model, Alpaca is trained on instruction-following demonstrations in the same style as the ones used for text-davinci-003. It has demonstrated similar behaviors to OpenAI's text-davinci-003 in various aspects while being smaller and more easily reproducible.\n",
        "\n",
        "*Note: You'll need to run the LLaMa code block in Unit 1 for the following code block to run.*"
      ]
    },
    {
      "cell_type": "code",
      "execution_count": null,
      "metadata": {
        "id": "n3UuQpWzrHEK"
      },
      "outputs": [],
      "source": [
        "pretrained_engine = LlamaEngine(\"LLaMA\")\n",
        "aligned_engine = LlamaEngine(\"Alpaca\")"
      ]
    },
    {
      "cell_type": "markdown",
      "metadata": {
        "id": "4eSwSsPV8PmT"
      },
      "source": [
        "## ⭐⭐⭐ YOUR TURN ⭐⭐⭐\n",
        "\n",
        "Can you identify prompts where the behavior of the two modelsa is very different? Some suggestions are shown below."
      ]
    },
    {
      "cell_type": "code",
      "execution_count": null,
      "metadata": {
        "colab": {
          "base_uri": "https://localhost:8080/"
        },
        "id": "0HTsZ1EG8fxi",
        "outputId": "44544550-4e9c-4439-b1d0-39c30af5a509"
      },
      "outputs": [
        {
          "output_type": "stream",
          "name": "stdout",
          "text": [
            "PRE-TRAINED MODEL:\n",
            "”  “A hippopotamus?”  “Yes.”  “A fairy?”  “Yes.”  “A hippopotamus\n",
            "encountering a fairy?”  “Yes.”  “\n",
            "\n",
            "ALIGNED MODEL:\n",
            "  Once upon a time, there was a large and friendly hippopotamus who\n",
            "lived in a river in the middle of a lush and beautiful forest. One\n",
            "day, while the hippo was taking a leisurely swim, he noticed a tiny\n",
            "sparkle in the corner of his eye. He looked closer and saw a\n"
          ]
        }
      ],
      "source": [
        "prompt = \"Tell me a story about a hippopotamus encountering a fairy.\"\n",
        "\n",
        "print(\"PRE-TRAINED MODEL:\")\n",
        "print(textwrap.fill(pretrained_engine.generate(prompt, num_tokens=64, top_p=0.1, num_samples=1)))\n",
        "\n",
        "print(\"\\nALIGNED MODEL:\")\n",
        "print(textwrap.fill(aligned_engine.generate(prompt, num_tokens=64, top_p=0.1, num_samples=1)))"
      ]
    },
    {
      "cell_type": "code",
      "execution_count": null,
      "metadata": {
        "colab": {
          "base_uri": "https://localhost:8080/"
        },
        "id": "eIPUsx30-lJP",
        "outputId": "6851f7f7-08dd-46a1-b49e-4d2905d23ea2"
      },
      "outputs": [
        {
          "name": "stdout",
          "output_type": "stream",
          "text": [
            "PRE-TRAINED MODEL:\n",
            " I have a B.S. in Biology and a minor in Chemistry. I have a 3.8 GPA\n",
            "and a 161 on the GRE. I have been accepted to the University of\n",
            "Washington, University of California, Davis, and the University of\n",
            "California, San Diego. I am leaning towards UC Davis, but I am\n",
            "\n",
            "ALIGNED MODEL:\n",
            "  The best advice is to research the different graduate programs\n",
            "available and find the one that best fits your academic and career\n",
            "goals. Consider factors such as location, cost, program length,\n",
            "faculty, and curriculum. Talk to current students and alumni of the\n",
            "programs you are considering to get a better understanding of the\n",
            "school and its\n"
          ]
        }
      ],
      "source": [
        "prompt = \"I need advice on where to go to grad school.\"\n",
        "\n",
        "print(\"PRE-TRAINED MODEL:\")\n",
        "print(textwrap.fill(pretrained_engine.generate(prompt, num_tokens=64, top_p=0.1, num_samples=1)))\n",
        "\n",
        "print(\"\\nALIGNED MODEL:\")\n",
        "print(textwrap.fill(aligned_engine.generate(prompt, num_tokens=64, top_p=0.1, num_samples=1)))"
      ]
    },
    {
      "cell_type": "markdown",
      "source": [
        "## 2.1 Comparing model sizes\n",
        "\n",
        "Lets compare four different model sizes to see how good their generations are on a few different prompts. We'll use OpenAI's API for this. Unfortunately, OpenAI doesn't tell us the actual sizes of their GPT-3 models, but they do tell us the relative sizes."
      ],
      "metadata": {
        "id": "Himg-hkJgi5x"
      }
    },
    {
      "cell_type": "code",
      "source": [
        "# The smallest model size released for GPT-3.\n",
        "gpt3_ada_engine = OpenAIEngine(\"ada\")\n",
        "# The medium-sized model released for GPT-3.\n",
        "gpt3_curie_engine = OpenAIEngine(\"curie\")\n",
        "# The largest GPT-3 released.\n",
        "gpt3_davinci_engine = OpenAIEngine(\"davinci\")"
      ],
      "metadata": {
        "id": "COR2pKd8gs9h"
      },
      "execution_count": null,
      "outputs": []
    },
    {
      "cell_type": "markdown",
      "source": [
        "### How does model size impact factuality?\n",
        "As model size gets larger, models tend to get better at giving correct facts. You can try fact-checking the generations from each of the models below."
      ],
      "metadata": {
        "id": "-wdMjUFIhSk0"
      }
    },
    {
      "cell_type": "code",
      "source": [
        "prompt = \"The Monongahela River is located\"\n",
        "\n",
        "print(\"Small-sized GPT-3:\")\n",
        "print(textwrap.fill(gpt3_ada_engine.generate(prompt, num_tokens=64, top_p=0.1, num_samples=1)))\n",
        "\n",
        "print(\"\\nMedium-sized GPT-3:\")\n",
        "print(textwrap.fill(gpt3_curie_engine.generate(prompt, num_tokens=64, top_p=0.1, num_samples=1)))\n",
        "\n",
        "print(\"\\nFull-sized GPT-3:\")\n",
        "print(textwrap.fill(gpt3_davinci_engine.generate(prompt, num_tokens=64, top_p=0.1, num_samples=1)))"
      ],
      "metadata": {
        "colab": {
          "base_uri": "https://localhost:8080/"
        },
        "id": "DXQn1lCThW3P",
        "outputId": "9e86c3bd-99a8-4feb-dfc8-93a651560b1b"
      },
      "execution_count": null,
      "outputs": [
        {
          "output_type": "stream",
          "name": "stdout",
          "text": [
            "Small-sized GPT-3:\n",
            " in the U.S. state of Pennsylvania. The Monongahela River flows\n",
            "through the communities of Monongahela, Monongahela, and Monongahela\n",
            "Falls. The Monongahela River is a tributary of the Ohio River. The\n",
            "Monongahela River is a major t\n",
            "\n",
            "Medium-sized GPT-3:\n",
            " in the U.S. state of Pennsylvania. It is a tributary of the Allegheny\n",
            "River, which it joins at the city of Pittsburgh. The Monongahela River\n",
            "is approximately long.  The Monongahela River rises in the\n",
            "southwestern corner of Washington County, Pennsylvania, in the\n",
            "Allegheny\n",
            "\n",
            "Full-sized GPT-3:\n",
            " in the southwestern part of Pennsylvania. It is a tributary of the\n",
            "Ohio River, which is part of the Mississippi River watershed. The\n",
            "river is approximately long and is formed by the confluence of the\n",
            "West Fork River and the Little Monongahela River. The river's\n",
            "watershed is located in parts of ten counties\n"
          ]
        }
      ]
    },
    {
      "cell_type": "code",
      "source": [
        "prompt = \"The Language Technologies Institute at Carnegie Mellon University was founded\"\n",
        "\n",
        "print(\"Small-sized GPT-3:\")\n",
        "print(textwrap.fill(gpt3_ada_engine.generate(prompt, num_tokens=64, top_p=0.1, num_samples=1)))\n",
        "\n",
        "print(\"\\nMedium-sized GPT-3:\")\n",
        "print(textwrap.fill(gpt3_curie_engine.generate(prompt, num_tokens=64, top_p=0.1, num_samples=1)))\n",
        "\n",
        "print(\"\\nFull-sized GPT-3:\")\n",
        "print(textwrap.fill(gpt3_davinci_engine.generate(prompt, num_tokens=64, top_p=0.1, num_samples=1)))"
      ],
      "metadata": {
        "colab": {
          "base_uri": "https://localhost:8080/"
        },
        "id": "lLt2dUspiCAm",
        "outputId": "4b4814f0-a598-4caf-dda1-9f28d75d4879"
      },
      "execution_count": null,
      "outputs": [
        {
          "output_type": "stream",
          "name": "stdout",
          "text": [
            "Small-sized GPT-3:\n",
            " in 2010 to advance the field of language technologies. The Institute\n",
            "is a consortium of universities and research institutes that are\n",
            "working together to develop and apply new technologies to the study of\n",
            "language. The Institute is also a member of the Association for\n",
            "Computational Linguistics (ACL), the Association for Computational\n",
            "Linguistics\n",
            "\n",
            "Medium-sized GPT-3:\n",
            " in 1988 to support research in the areas of natural language\n",
            "processing, machine translation, and computational linguistics. The\n",
            "institute is located in the School of Computer Science at Carnegie\n",
            "Mellon University in Pittsburgh, PA.  The institute is home to the CMU\n",
            "NLP Group, which is a research group within the School of Computer\n",
            "\n",
            "Full-sized GPT-3:\n",
            " in 1986 by Raj Reddy. The institute is a research center for the\n",
            "study of language technologies, including speech recognition, machine\n",
            "translation, information extraction, and computational linguistics.\n",
            "The institute is also home to the National Center for Text Mining.\n",
            "The institute is located in the Gates and Hillman centers on the\n",
            "Carnegie\n"
          ]
        }
      ]
    },
    {
      "cell_type": "markdown",
      "source": [
        "### How does model size impact coherence?\n",
        "\n",
        "Even the \"small\" versions of GPT-3 tend to be able to generate coherent text samples that use correct grammar and sound like plausible English sentences. However, the generations from smaller models tend to be more repetative than the generations from larger ones.\n",
        "\n",
        "To combat this, for smaller models, you may need to choose a bigger value of $p$ than for larger models. You can try experimenting with modifying the $p$ value below."
      ],
      "metadata": {
        "id": "k8egum-MiZW3"
      }
    },
    {
      "cell_type": "code",
      "source": [
        "prompt = \"Once upon a time, there was a dragon.\"\n",
        "\n",
        "print(\"Small-sized GPT-3:\")\n",
        "print(textwrap.fill(gpt3_ada_engine.generate(prompt, num_tokens=64, top_p=0.1, num_samples=1)))\n",
        "\n",
        "print(\"\\nMedium-sized GPT-3:\")\n",
        "print(textwrap.fill(gpt3_curie_engine.generate(prompt, num_tokens=64, top_p=0.1, num_samples=1)))\n",
        "\n",
        "print(\"\\nFull-sized GPT-3:\")\n",
        "print(textwrap.fill(gpt3_davinci_engine.generate(prompt, num_tokens=64, top_p=0.1, num_samples=1)))"
      ],
      "metadata": {
        "id": "hZ4zAnfKi1Fy",
        "outputId": "e9901d22-323b-40c9-d279-b2f5981754d2",
        "colab": {
          "base_uri": "https://localhost:8080/"
        }
      },
      "execution_count": null,
      "outputs": [
        {
          "output_type": "stream",
          "name": "stdout",
          "text": [
            "Small-sized GPT-3:\n",
            "  It was a dragon that lived in the mountains of the south. It was a\n",
            "dragon that was a little bit of everything. It was a dragon that was a\n",
            "little bit of everything, but it was also a dragon that was a little\n",
            "bit of everything. It was a dragon that was a little bit of everything\n",
            "\n",
            "Medium-sized GPT-3:\n",
            " He was a very old dragon, and he had a very old wife. They lived in a\n",
            "very old castle, and they had a very old son. The son was very old,\n",
            "too, and he had a very old dog. The dog was very old, and he had a\n",
            "very old bone. The bone was\n",
            "\n",
            "Full-sized GPT-3:\n",
            " He was a very nice dragon, and he lived in a cave. He had a lot of\n",
            "gold, and he was very happy.  One day, a knight came to the cave. The\n",
            "knight was very brave, and he wanted to fight the dragon.  “I will\n",
            "fight you,”\n"
          ]
        }
      ]
    }
  ],
  "metadata": {
    "colab": {
      "gpuType": "T4",
      "provenance": [],
      "toc_visible": true,
      "include_colab_link": true
    },
    "kernelspec": {
      "display_name": "Python 3",
      "name": "python3"
    },
    "language_info": {
      "codemirror_mode": {
        "name": "ipython",
        "version": 3
      },
      "file_extension": ".py",
      "mimetype": "text/x-python",
      "name": "python",
      "nbconvert_exporter": "python",
      "pygments_lexer": "ipython3",
      "version": "3.10.11"
    },
    "widgets": {
      "application/vnd.jupyter.widget-state+json": {
        "0c7947f1ff06495aac7f77a9e5cb0db8": {
          "model_module": "@jupyter-widgets/base",
          "model_module_version": "1.2.0",
          "model_name": "LayoutModel",
          "state": {
            "_model_module": "@jupyter-widgets/base",
            "_model_module_version": "1.2.0",
            "_model_name": "LayoutModel",
            "_view_count": null,
            "_view_module": "@jupyter-widgets/base",
            "_view_module_version": "1.2.0",
            "_view_name": "LayoutView",
            "align_content": null,
            "align_items": null,
            "align_self": null,
            "border": null,
            "bottom": null,
            "display": null,
            "flex": null,
            "flex_flow": null,
            "grid_area": null,
            "grid_auto_columns": null,
            "grid_auto_flow": null,
            "grid_auto_rows": null,
            "grid_column": null,
            "grid_gap": null,
            "grid_row": null,
            "grid_template_areas": null,
            "grid_template_columns": null,
            "grid_template_rows": null,
            "height": null,
            "justify_content": null,
            "justify_items": null,
            "left": null,
            "margin": null,
            "max_height": null,
            "max_width": null,
            "min_height": null,
            "min_width": null,
            "object_fit": null,
            "object_position": null,
            "order": null,
            "overflow": null,
            "overflow_x": null,
            "overflow_y": null,
            "padding": null,
            "right": null,
            "top": null,
            "visibility": null,
            "width": null
          }
        },
        "23470d5bfb7840db97516f9567523d64": {
          "model_module": "@jupyter-widgets/controls",
          "model_module_version": "1.5.0",
          "model_name": "ProgressStyleModel",
          "state": {
            "_model_module": "@jupyter-widgets/controls",
            "_model_module_version": "1.5.0",
            "_model_name": "ProgressStyleModel",
            "_view_count": null,
            "_view_module": "@jupyter-widgets/base",
            "_view_module_version": "1.2.0",
            "_view_name": "StyleView",
            "bar_color": null,
            "description_width": ""
          }
        },
        "398e8d5f201b4133b379169a30289fdd": {
          "model_module": "@jupyter-widgets/base",
          "model_module_version": "1.2.0",
          "model_name": "LayoutModel",
          "state": {
            "_model_module": "@jupyter-widgets/base",
            "_model_module_version": "1.2.0",
            "_model_name": "LayoutModel",
            "_view_count": null,
            "_view_module": "@jupyter-widgets/base",
            "_view_module_version": "1.2.0",
            "_view_name": "LayoutView",
            "align_content": null,
            "align_items": null,
            "align_self": null,
            "border": null,
            "bottom": null,
            "display": null,
            "flex": null,
            "flex_flow": null,
            "grid_area": null,
            "grid_auto_columns": null,
            "grid_auto_flow": null,
            "grid_auto_rows": null,
            "grid_column": null,
            "grid_gap": null,
            "grid_row": null,
            "grid_template_areas": null,
            "grid_template_columns": null,
            "grid_template_rows": null,
            "height": null,
            "justify_content": null,
            "justify_items": null,
            "left": null,
            "margin": null,
            "max_height": null,
            "max_width": null,
            "min_height": null,
            "min_width": null,
            "object_fit": null,
            "object_position": null,
            "order": null,
            "overflow": null,
            "overflow_x": null,
            "overflow_y": null,
            "padding": null,
            "right": null,
            "top": null,
            "visibility": null,
            "width": null
          }
        },
        "47d35c2cb34747599baeb80a5ba8394c": {
          "model_module": "@jupyter-widgets/controls",
          "model_module_version": "1.5.0",
          "model_name": "HTMLModel",
          "state": {
            "_dom_classes": [],
            "_model_module": "@jupyter-widgets/controls",
            "_model_module_version": "1.5.0",
            "_model_name": "HTMLModel",
            "_view_count": null,
            "_view_module": "@jupyter-widgets/controls",
            "_view_module_version": "1.5.0",
            "_view_name": "HTMLView",
            "description": "",
            "description_tooltip": null,
            "layout": "IPY_MODEL_7808bb08fa4f4da7b6b3824dd7a28e99",
            "placeholder": "​",
            "style": "IPY_MODEL_5a007e4a0fce424f911110c8da07f1c2",
            "value": " 2/2 [00:00&lt;00:00, 59.80it/s]"
          }
        },
        "5a007e4a0fce424f911110c8da07f1c2": {
          "model_module": "@jupyter-widgets/controls",
          "model_module_version": "1.5.0",
          "model_name": "DescriptionStyleModel",
          "state": {
            "_model_module": "@jupyter-widgets/controls",
            "_model_module_version": "1.5.0",
            "_model_name": "DescriptionStyleModel",
            "_view_count": null,
            "_view_module": "@jupyter-widgets/base",
            "_view_module_version": "1.2.0",
            "_view_name": "StyleView",
            "description_width": ""
          }
        },
        "7808bb08fa4f4da7b6b3824dd7a28e99": {
          "model_module": "@jupyter-widgets/base",
          "model_module_version": "1.2.0",
          "model_name": "LayoutModel",
          "state": {
            "_model_module": "@jupyter-widgets/base",
            "_model_module_version": "1.2.0",
            "_model_name": "LayoutModel",
            "_view_count": null,
            "_view_module": "@jupyter-widgets/base",
            "_view_module_version": "1.2.0",
            "_view_name": "LayoutView",
            "align_content": null,
            "align_items": null,
            "align_self": null,
            "border": null,
            "bottom": null,
            "display": null,
            "flex": null,
            "flex_flow": null,
            "grid_area": null,
            "grid_auto_columns": null,
            "grid_auto_flow": null,
            "grid_auto_rows": null,
            "grid_column": null,
            "grid_gap": null,
            "grid_row": null,
            "grid_template_areas": null,
            "grid_template_columns": null,
            "grid_template_rows": null,
            "height": null,
            "justify_content": null,
            "justify_items": null,
            "left": null,
            "margin": null,
            "max_height": null,
            "max_width": null,
            "min_height": null,
            "min_width": null,
            "object_fit": null,
            "object_position": null,
            "order": null,
            "overflow": null,
            "overflow_x": null,
            "overflow_y": null,
            "padding": null,
            "right": null,
            "top": null,
            "visibility": null,
            "width": null
          }
        },
        "910d6c0192e8411e8ebc651b81a41789": {
          "model_module": "@jupyter-widgets/base",
          "model_module_version": "1.2.0",
          "model_name": "LayoutModel",
          "state": {
            "_model_module": "@jupyter-widgets/base",
            "_model_module_version": "1.2.0",
            "_model_name": "LayoutModel",
            "_view_count": null,
            "_view_module": "@jupyter-widgets/base",
            "_view_module_version": "1.2.0",
            "_view_name": "LayoutView",
            "align_content": null,
            "align_items": null,
            "align_self": null,
            "border": null,
            "bottom": null,
            "display": null,
            "flex": null,
            "flex_flow": null,
            "grid_area": null,
            "grid_auto_columns": null,
            "grid_auto_flow": null,
            "grid_auto_rows": null,
            "grid_column": null,
            "grid_gap": null,
            "grid_row": null,
            "grid_template_areas": null,
            "grid_template_columns": null,
            "grid_template_rows": null,
            "height": null,
            "justify_content": null,
            "justify_items": null,
            "left": null,
            "margin": null,
            "max_height": null,
            "max_width": null,
            "min_height": null,
            "min_width": null,
            "object_fit": null,
            "object_position": null,
            "order": null,
            "overflow": null,
            "overflow_x": null,
            "overflow_y": null,
            "padding": null,
            "right": null,
            "top": null,
            "visibility": null,
            "width": null
          }
        },
        "9c28e3f8329c4c59a0bfc74e2beb42a7": {
          "model_module": "@jupyter-widgets/controls",
          "model_module_version": "1.5.0",
          "model_name": "HTMLModel",
          "state": {
            "_dom_classes": [],
            "_model_module": "@jupyter-widgets/controls",
            "_model_module_version": "1.5.0",
            "_model_name": "HTMLModel",
            "_view_count": null,
            "_view_module": "@jupyter-widgets/controls",
            "_view_module_version": "1.5.0",
            "_view_name": "HTMLView",
            "description": "",
            "description_tooltip": null,
            "layout": "IPY_MODEL_910d6c0192e8411e8ebc651b81a41789",
            "placeholder": "​",
            "style": "IPY_MODEL_c20957e27af84bed93f00cd70f35d60a",
            "value": "100%"
          }
        },
        "c20957e27af84bed93f00cd70f35d60a": {
          "model_module": "@jupyter-widgets/controls",
          "model_module_version": "1.5.0",
          "model_name": "DescriptionStyleModel",
          "state": {
            "_model_module": "@jupyter-widgets/controls",
            "_model_module_version": "1.5.0",
            "_model_name": "DescriptionStyleModel",
            "_view_count": null,
            "_view_module": "@jupyter-widgets/base",
            "_view_module_version": "1.2.0",
            "_view_name": "StyleView",
            "description_width": ""
          }
        },
        "dc633265888d4a71911719f259e74db6": {
          "model_module": "@jupyter-widgets/controls",
          "model_module_version": "1.5.0",
          "model_name": "FloatProgressModel",
          "state": {
            "_dom_classes": [],
            "_model_module": "@jupyter-widgets/controls",
            "_model_module_version": "1.5.0",
            "_model_name": "FloatProgressModel",
            "_view_count": null,
            "_view_module": "@jupyter-widgets/controls",
            "_view_module_version": "1.5.0",
            "_view_name": "ProgressView",
            "bar_style": "success",
            "description": "",
            "description_tooltip": null,
            "layout": "IPY_MODEL_0c7947f1ff06495aac7f77a9e5cb0db8",
            "max": 2,
            "min": 0,
            "orientation": "horizontal",
            "style": "IPY_MODEL_23470d5bfb7840db97516f9567523d64",
            "value": 2
          }
        },
        "f818c0591c0f4008825f27b8854eef4f": {
          "model_module": "@jupyter-widgets/controls",
          "model_module_version": "1.5.0",
          "model_name": "HBoxModel",
          "state": {
            "_dom_classes": [],
            "_model_module": "@jupyter-widgets/controls",
            "_model_module_version": "1.5.0",
            "_model_name": "HBoxModel",
            "_view_count": null,
            "_view_module": "@jupyter-widgets/controls",
            "_view_module_version": "1.5.0",
            "_view_name": "HBoxView",
            "box_style": "",
            "children": [
              "IPY_MODEL_9c28e3f8329c4c59a0bfc74e2beb42a7",
              "IPY_MODEL_dc633265888d4a71911719f259e74db6",
              "IPY_MODEL_47d35c2cb34747599baeb80a5ba8394c"
            ],
            "layout": "IPY_MODEL_398e8d5f201b4133b379169a30289fdd"
          }
        }
      }
    },
    "accelerator": "GPU"
  },
  "nbformat": 4,
  "nbformat_minor": 0
}