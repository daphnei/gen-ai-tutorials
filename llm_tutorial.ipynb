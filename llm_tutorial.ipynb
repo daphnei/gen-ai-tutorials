{
  "cells": [
    {
      "attachments": {},
      "cell_type": "markdown",
      "metadata": {
        "colab_type": "text",
        "id": "view-in-github"
      },
      "source": [
        "<a href=\"https://colab.research.google.com/github/daphnei/gen-ai-tutorials/blob/main/llm_tutorial.ipynb\" target=\"_parent\"><img src=\"https://colab.research.google.com/assets/colab-badge.svg\" alt=\"Open In Colab\"/></a>"
      ]
    },
    {
      "cell_type": "code",
      "execution_count": null,
      "metadata": {
        "id": "bOs6Z9HImCy5"
      },
      "outputs": [],
      "source": [
        "# Imports and initialization\n",
        "\n",
        "from abc import ABC\n",
        "\n",
        "class Engine(ABC):\n",
        "  def score(self, text):\n",
        "    \"\"\"Tokenizes the provided text, and returns a score for each token.\n",
        "    \n",
        "    The score is log-likelihood. A higher score means a token was more\n",
        "    likely according to the model.\n",
        "    \"\"\"\n",
        "    pass\n",
        "\n",
        "  def generate(self, prompt, top_p, num_tokens):\n",
        "    \"\"\"Generates text given the provided prompt text.\"\"\"\n",
        "    pass\n"
      ]
    },
    {
      "attachments": {},
      "cell_type": "markdown",
      "metadata": {
        "id": "H43uIMOmq2K7"
      },
      "source": [
        "# Glossary\n",
        "\n",
        "Here are some of the terms we will be using in this tutorial.\n",
        "\n",
        "\n",
        "*   **(Language) Model**: A neural network trained to generate text.\n",
        "*   **Engine**: The code and computers used to do inference with a model.\n",
        "*   **Accelerator**: A [GPU](https://www.techtarget.com/searchvirtualdesktop/definition/GPU-graphics-processing-unit) or [TPU](https://cloud.google.com/tpu/docs/intro-to-tpu) hardware chip used to massively speed up model inference by enabling fast, parallelized matrix multiplcations. \n",
        "\n"
      ]
    },
    {
      "attachments": {},
      "cell_type": "markdown",
      "metadata": {
        "id": "Z459i_L9lItq"
      },
      "source": [
        "# Unit 1: Working with Pre-Trained Languages Models"
      ]
    },
    {
      "attachments": {},
      "cell_type": "markdown",
      "metadata": {
        "id": "ofGf3IoXlB0b"
      },
      "source": [
        "## 1.1 Choosing a model and engine\n",
        "\n",
        "Which model should you use? It depends on what your goals are, what your budget is, and what kinds of computational resources you have available.\n",
        "\n",
        "In this section, we will summarize the pros and cons some of the popular systems, and guide you through the process of setting them up for inference."
      ]
    },
    {
      "attachments": {},
      "cell_type": "markdown",
      "metadata": {
        "id": "l4KMC9nXqr99"
      },
      "source": [
        "## Open-source models on HuggingFace\n",
        "\n",
        "HuggingFace is an open-source code framework for loading an open-source models onto an accelerator in order to train or do inference. It is very popular among academic researchers.\n",
        "\n",
        "There are [hundreds of models](https://huggingface.co/models) available through HuggingFace's model repository. Some prominent ones which you can use for tutorial are.\n",
        "\n",
        "### Why use this?\n",
        "HuggingFace is great if your goal is to write open-source code, with results that anyone can reproduce. HuggingFace gives access to a huge number of models, and it is fairly easy to swap between models.\n",
        "\n",
        "Because HuggingFace is widely used, it is easy to find help online. Probably someone else has had the same question as you and already posted about it.\n",
        "\n",
        "### Why not use this?\n",
        "When you use HuggingFace, you are running the code on your own computer. If you don't have a big enough accelerator, you will run into difficulties loading up larger models. For example, Colab (the software you are currently using) gives you access to a Tesla T4 GPU, which has 16 GB of RAM. This means, you can load the 6.7B parameter LLaMa, but not any of the bigger ones.\n",
        "\n",
        "* **[Pythia-3B](https://huggingface.co/EleutherAI/pythia-2.8b-deduped)**: Part of a family of models trained by [Eleuther AI](https://www.eleuther.ai/about), a non-profit AI research lab.\n",
        "* **[GPT-2 XL](https://huggingface.co/gpt2-xl)**: The original large language model from OpenAI, and the last one they open-sourced before moving away from open source models.\n",
        "* **[BLOOM-3b](https://huggingface.co/docs/transformers/model_doc/bloom)**: These models were created by the [BigScience Initative](https://bigscience.huggingface.co/), a collaboration between HugginFace and many academic research labs to responsibly build a set of high-quality multilingual models."
      ]
    },
    {
      "attachments": {},
      "cell_type": "markdown",
      "metadata": {
        "id": "zqMB8qewBQSn"
      },
      "source": [
        "## Open-source LLaMA \n",
        "\n",
        "Released this past February by Meta Research, LLaMA is the latest-and-greatest in open-source pre-trained LLMs. The LLaMA models range in size from 7 billion to 65 billion paramters.\n",
        "\n",
        "Since the models' release, they have been finetuned by researchers to improve  functionality for a variety of use cases. Some prominent derivatives of LLaMA are:\n",
        "\n",
        "* **Vicuna**: Finetuned for TODO\n",
        "* **Alpaca**: Finetuned for TODO\n",
        "* **TODO**:\n",
        " \n",
        "While LLaMa and its derivative models can be used with the HuggingFace framework, the Colab runtime you are on right now doesn't have a big enough accelerator to load any of these models.\n",
        "\n",
        "Instead, we have loaded up LLaMA on LTI's compute cluster, and you can use the code below to query the cluster. Note that the server being queries in the code below will be taken down at the end of the tutorial.\n",
        "\n",
        "### Why use this?\n",
        "TODO\n",
        "\n",
        "### Why not use this?\n",
        "TODO\n",
        "\n",
        "### Setup Instructions\n",
        "TODO"
      ]
    },
    {
      "attachments": {},
      "cell_type": "markdown",
      "metadata": {
        "id": "ntxQK-J9BWwh"
      },
      "source": [
        "## Cohere's models"
      ]
    },
    {
      "attachments": {},
      "cell_type": "markdown",
      "metadata": {
        "id": "M5dyUzrHBYhm"
      },
      "source": [
        "## Anthropic's models"
      ]
    },
    {
      "attachments": {},
      "cell_type": "markdown",
      "metadata": {
        "id": "OXOevXZ7lF1B"
      },
      "source": [
        "## OpenAI's GPT-3/4\n",
        "\n",
        "TODO: Add brief summary of these models\n",
        "\n",
        "### Why use these?\n",
        "OpenAI's model have become the industry standard for large language models.\n",
        "They have an API which is very easy to use. Since the models all get run on OpenAI's servers, you don't need your own compute resources, and there is practically no setup involved to get started.\n",
        "\n",
        "### Why not use these?\n",
        "OpenAI's models are not open-source and only accessible through an API. There is relatively little information available on how they were trained or what data they were trained on. OpenAI may change the models being used under the hood by the API, and you as a user will not know it. This makes them a bad choice for fully reproducible research.\n",
        "\n",
        "The OpenAI API costs money to use. See [this link](https://openai.com/pricing) for pricing details.\n",
        "\n",
        "### Setup Instructions\n",
        "1. Go to www.openai.com and create an account.\n",
        "2. Go to https://platform.openai.com/account/api-keys and click the \"Create new secret key\" button. It doesn't matter what you name it.\n",
        "3. Copy the secret key and paste it into the code block below. Then run the code block."
      ]
    },
    {
      "cell_type": "code",
      "execution_count": null,
      "metadata": {
        "id": "sBfe6Orlk_ha"
      },
      "outputs": [],
      "source": [
        "#@title Run this code block to use GPT-3 for Unit 1.\n",
        "MODEL_NAME = \"text-davinci-003\" #@param [\"gpt-4\", \"text-davinci-003\", \"text-curie-001\", \"text-babbage-001\", \"text-ada-001\"]\n",
        "SECRET_KEY = \"Paste your secret key here.\" #@param {type:\"string\"}\n",
        "\n",
        "\n",
        "!pip install openai\n",
        "import openai\n",
        "openai.api_key = SECRET_KEY\n",
        "\n",
        "class OpenAIEngine(Engine):\n",
        "  def __init__(self, model_name):\n",
        "    self.model_name = model_name\n",
        "\n",
        "  def score(self, text):\n",
        "    raise ValueError(\"TODO(daphne): fill this in\")\n",
        "    # yiming: The API does not return logprobs for tokens in the prompt, so\n",
        "    # implementing score() may be impossible\n",
        "\n",
        "  def generate(self, prompt, top_p, num_tokens):\n",
        "    response = openai.Completion.create(\n",
        "      engine=self.model_name,\n",
        "      prompt=prompt,\n",
        "      temperature=1.0,\n",
        "      max_tokens=num_tokens,\n",
        "      top_p=top_p,\n",
        "      frequency_penalty=0.0,\n",
        "      presence_penalty=0.0,\n",
        "      logprobs=1\n",
        "    )\n",
        "    return response[\"choices\"][0][\"text\"]\n",
        "\n",
        "engine = OpenAIEngine(MODEL_NAME)"
      ]
    },
    {
      "attachments": {},
      "cell_type": "markdown",
      "metadata": {
        "id": "V_D-M637iFPg"
      },
      "source": [
        "## 1.3 Analyzing Likelihoods\n",
        "\n",
        "As we discussed in the lecture, language models take as input a prompt sequence and then output a score for each token in the vocabulary.\n",
        "\n",
        "A higher score means the model is more confident this that this token fits as the next token in the sequence.\n",
        "\n",
        "In this unit, we will inspect token likelihoods to build an understaning of why models give tokens higher or low scores. We will also learn how to compute perplexity, a standard metric people use to measure how well models have learned to represent language."
      ]
    },
    {
      "cell_type": "code",
      "execution_count": null,
      "metadata": {
        "id": "9voIFbxHjDrm"
      },
      "outputs": [],
      "source": [
        "# TODO"
      ]
    },
    {
      "attachments": {},
      "cell_type": "markdown",
      "metadata": {
        "id": "bZTLZQpPirZl"
      },
      "source": [
        "## 1.3 Controlling the Amount of Randomness During Generation\n",
        "\n",
        "In this section, we will investigate the impact the `top_p` parameter has on the text that a model generates."
      ]
    },
    {
      "cell_type": "code",
      "execution_count": null,
      "metadata": {
        "id": "JPoo1S8BwZit"
      },
      "outputs": [],
      "source": [
        "# TODO"
      ]
    },
    {
      "attachments": {},
      "cell_type": "markdown",
      "metadata": {},
      "source": [
        "## 1.4 Creating a Classifer using Few-Shot Learning\n",
        "\n",
        "In this section, we will build a binary sentiment classifier using a LLM such\n",
        "as GPT-3.\n",
        "\n",
        "Writing the perfect prompt is more an art than a science, but a prompt often has\n",
        "two parts:\n",
        "- An `instruction` string that instructs the model on how to complete the task.\n",
        "Adding it is often effective, because models such as OpenAI's `text-davinci-003`\n",
        "are fine-tuned to follow user instructions.\n",
        "- Sereral `demonstration` strings that give examples of completing the task.\n",
        "\n",
        "For example, a prompt that translates English words to Chinese could look like\n",
        "the following. Running GPT-3 to complete the prompt provides the correct answer\n",
        "\"松鼠\".\n",
        "\n",
        "```\n",
        "Translate English to Chinese.\n",
        "\n",
        "dog -> 狗\n",
        "apple -> 苹果\n",
        "coffee -> 咖啡\n",
        "supermarket -> 超市\n",
        "squirrel ->\n",
        "```\n",
        "\n",
        "Now, let's build a binary sentiment classifier for [yelp reviews](https://huggingface.co/datasets/yelp_polarity/)."
      ]
    },
    {
      "cell_type": "code",
      "execution_count": null,
      "metadata": {},
      "outputs": [],
      "source": [
        "!pip install datasets\n",
        "\n",
        "import datasets\n",
        "\n",
        "yelp = datasets.load_dataset(\"yelp_polarity\")\n",
        "train_data = yelp[\"train\"].shuffle(seed=1).select(range(4))\n",
        "test_data = yelp[\"test\"].shuffle(seed=1).select(range(20))\n",
        "\n",
        "print(\"Data format:\", train_data[1])\n"
      ]
    },
    {
      "cell_type": "code",
      "execution_count": null,
      "metadata": {},
      "outputs": [],
      "source": [
        "# convert integer labels to text\n",
        "label_map = {\n",
        "    0: \" negative\",\n",
        "    1: \" positive\"\n",
        "}\n",
        "\"\"\"\n",
        "It might seem strange to put a space before \"negative\". This is due to how\n",
        "GPT-3's tokenizer (BPE) works: \" negative\" is considered one token, and is\n",
        "observed much more frequently than \"negative\" without the whitespace.\n",
        "\"\"\"\n",
        "\n",
        "instruction = \"Classify the sentiment of these yelp reviews as positive or negative.\\n\\n\"\n",
        "demo_template = \"Review: {review}\\nSentiment:{sentiment}\\n\\n\"\n",
        "\n",
        "# construct the prompt by concatenating instructions and templates\n",
        "prompt_parts = [instruction]\n",
        "for instance in train_data:\n",
        "    review = instance[\"text\"]\n",
        "    sentiment = label_map[instance[\"label\"]]\n",
        "    prompt_parts.append(demo_template.format(review=review, sentiment=sentiment))\n",
        "prompt = ''.join(prompt_parts)\n",
        "\n",
        "\n",
        "print(\"YOUR PROMPT:\", prompt, sep='\\n')"
      ]
    },
    {
      "cell_type": "code",
      "execution_count": null,
      "metadata": {},
      "outputs": [],
      "source": [
        "# now we can feed the prompt to GPT-3 to classify a new review!\n",
        "\n",
        "eval_template = \"Review: {review}\\nSentiment:\"\n",
        "\n",
        "def classify_review(review: str) -> str:\n",
        "  \"\"\" Classify a single movie review \"\"\"\n",
        "  classify_prompt = prompt + eval_template.format(review=review)\n",
        "  response = openai.Completion.create(\n",
        "    engine=MODEL_NAME,\n",
        "    prompt=classify_prompt,\n",
        "    temperature=0.0, # <- only need the top-probability answer for classification\n",
        "    max_tokens=1,\n",
        "    logit_bias={\n",
        "      \"3967\": 100,\n",
        "      \"4633\": 100,\n",
        "    } # <- whitelist only tokens that correspond to a label\n",
        "  )\n",
        "  return response[\"choices\"][0][\"text\"]\n",
        "\n",
        "\n",
        "def evaluate(verbose=False) -> None:\n",
        "  \"\"\" Evaluate your prompt on the test set \"\"\"\n",
        "  correct = []\n",
        "  for i, instance in enumerate(test_data):\n",
        "    review = instance[\"text\"]\n",
        "    label = label_map[instance[\"label\"]]\n",
        "    predicted = classify_review(review)\n",
        "    correct.append(1 if label == predicted else 0)\n",
        "  \n",
        "    print(f\"======== {i} / {len(test_data)} ========\")\n",
        "    print(f\"REVIEW: {review}\")\n",
        "    print(f\"LABEL:{label}\")\n",
        "    print(f\"PREDICTED:{predicted}\")\n",
        "\n",
        "  \n",
        "  acc = sum(correct) / len(correct)\n",
        "  print(f\"Accuracy of your prompt on {len(test_data)} test examples: {acc:.0%}\")\n",
        "\n",
        "\n",
        "evaluate(verbose=True) # Expect 100% performance"
      ]
    },
    {
      "attachments": {},
      "cell_type": "markdown",
      "metadata": {
        "id": "JUROSKw9jQvy"
      },
      "source": [
        "# Unit 2: Models Tuned for Instruction-Following and Dialog"
      ]
    },
    {
      "attachments": {},
      "cell_type": "markdown",
      "metadata": {
        "id": "XeimLGeajXjA"
      },
      "source": [
        "## 2.1 Choosing a model"
      ]
    },
    {
      "attachments": {},
      "cell_type": "markdown",
      "metadata": {
        "id": "i2Qvg74fjhtu"
      },
      "source": [
        "## 2.2 Comparing Behaviour of Pre-trained and Tuned Models"
      ]
    },
    {
      "attachments": {},
      "cell_type": "markdown",
      "metadata": {
        "id": "KFkb_YfnjZ6f"
      },
      "source": [
        "## 2.3 Building a Persona Bot with In-Context Learning"
      ]
    },
    {
      "attachments": {},
      "cell_type": "markdown",
      "metadata": {
        "id": "sCtVPWC7jsnV"
      },
      "source": [
        "# Scratch\n",
        "This is where Daphne is keeping random code pieces which will not end up in the tutorial."
      ]
    },
    {
      "cell_type": "code",
      "execution_count": null,
      "metadata": {
        "colab": {
          "base_uri": "https://localhost:8080/",
          "height": 35
        },
        "id": "7d-YoHX2wdDW",
        "outputId": "c4ee4811-ca62-4e7a-ea02-8e9be91f9bd5"
      },
      "outputs": [],
      "source": [
        "engine.generate(\"What can\", top_p=1.0, num_tokens=4)"
      ]
    }
  ],
  "metadata": {
    "colab": {
      "authorship_tag": "ABX9TyMwmhKwZK8Fri8DrSa9rxns",
      "include_colab_link": true,
      "provenance": []
    },
    "kernelspec": {
      "display_name": "Python 3",
      "name": "python3"
    },
    "language_info": {
      "codemirror_mode": {
        "name": "ipython",
        "version": 3
      },
      "file_extension": ".py",
      "mimetype": "text/x-python",
      "name": "python",
      "nbconvert_exporter": "python",
      "pygments_lexer": "ipython3",
      "version": "3.10.11"
    }
  },
  "nbformat": 4,
  "nbformat_minor": 0
}
